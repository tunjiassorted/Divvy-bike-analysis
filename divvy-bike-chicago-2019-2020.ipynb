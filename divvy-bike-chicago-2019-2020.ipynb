{
 "cells": [
  {
   "cell_type": "markdown",
   "id": "759c9658",
   "metadata": {
    "papermill": {
     "duration": 0.01233,
     "end_time": "2024-02-20T22:33:14.900342",
     "exception": false,
     "start_time": "2024-02-20T22:33:14.888012",
     "status": "completed"
    },
    "tags": []
   },
   "source": []
  },
  {
   "cell_type": "markdown",
   "id": "abc15cf6",
   "metadata": {
    "papermill": {
     "duration": 0.011332,
     "end_time": "2024-02-20T22:33:14.923010",
     "exception": false,
     "start_time": "2024-02-20T22:33:14.911678",
     "status": "completed"
    },
    "tags": []
   },
   "source": [
    "## Introduction \n",
    "\n",
    "### About the company \n",
    "In 2016, Cyclistic successfully launched a bike-share program in Chicago, which has since expanded to encompass a fleet of 5,824 geotracked bicycles stationed at 692 locations throughout the city. This innovative system allows users to unlock bikes from one station and return them to any other within the network at any time. Cyclistic's growth and success have been driven by a marketing strategy focused on creating general awareness and appealing to diverse consumer segments. Central to this approach is the flexibility of its pricing plans, which include single-ride passes, full-day passes, and annual memberships. Casual riders, who opt for single-ride or full-day passes, form one consumer segment, while Cyclistic members, characterized by their purchase of annual memberships, constitute another. This strategic pricing flexibility has played a pivotal role in Cyclistic's ability to cater to a broad audience and foster a thriving bike-share community in Chicago.\n",
    "\n",
    "### Business Task \n",
    "\n",
    "This project centers on developing effective marketing strategies to transform the substantial population of casual riders, numbering 71,643, into annual members. The primary objective is to design targeted approaches that encourage casual riders to transition to annual memberships. By leveraging available data, the focus is on understanding the unique preferences and motivations of casual riders, with the ultimate goal of creating compelling marketing initiatives that resonate with this sizable demographic. \n",
    "\n",
    "### Metadata \n",
    "\n",
    "Utilizing Cyclistic's historical trip data from Divvy_2019_Q1 and Divvy_2020_Q1, our analysis focuses on the first quarter—a period when individuals typically return to work post-holidays. By merging these datasets, we aim to gain comprehensive insights and a nuanced understanding of the collected information before making any informed decisions. This strategic approach allows us to examine patterns, behaviors, and trends during the initial months of the year, aiding in the formulation of data-driven strategies. The goal is to leverage this combined dataset to extract meaningful observations and draw informed conclusions that can guide subsequent actions for optimizing Cyclistic's operations and marketing strategies.\n"
   ]
  },
  {
   "cell_type": "code",
   "execution_count": 1,
   "id": "710dd5ab",
   "metadata": {
    "execution": {
     "iopub.execute_input": "2024-02-20T22:33:14.951806Z",
     "iopub.status.busy": "2024-02-20T22:33:14.949106Z",
     "iopub.status.idle": "2024-02-20T22:33:16.289579Z",
     "shell.execute_reply": "2024-02-20T22:33:16.287560Z"
    },
    "papermill": {
     "duration": 1.358777,
     "end_time": "2024-02-20T22:33:16.293229",
     "exception": false,
     "start_time": "2024-02-20T22:33:14.934452",
     "status": "completed"
    },
    "tags": []
   },
   "outputs": [
    {
     "name": "stderr",
     "output_type": "stream",
     "text": [
      "── \u001b[1mAttaching core tidyverse packages\u001b[22m ──────────────────────── tidyverse 2.0.0 ──\n",
      "\u001b[32m✔\u001b[39m \u001b[34mdplyr    \u001b[39m 1.1.4     \u001b[32m✔\u001b[39m \u001b[34mreadr    \u001b[39m 2.1.4\n",
      "\u001b[32m✔\u001b[39m \u001b[34mforcats  \u001b[39m 1.0.0     \u001b[32m✔\u001b[39m \u001b[34mstringr  \u001b[39m 1.5.1\n",
      "\u001b[32m✔\u001b[39m \u001b[34mggplot2  \u001b[39m 3.4.4     \u001b[32m✔\u001b[39m \u001b[34mtibble   \u001b[39m 3.2.1\n",
      "\u001b[32m✔\u001b[39m \u001b[34mlubridate\u001b[39m 1.9.3     \u001b[32m✔\u001b[39m \u001b[34mtidyr    \u001b[39m 1.3.0\n",
      "\u001b[32m✔\u001b[39m \u001b[34mpurrr    \u001b[39m 1.0.2     \n",
      "── \u001b[1mConflicts\u001b[22m ────────────────────────────────────────── tidyverse_conflicts() ──\n",
      "\u001b[31m✖\u001b[39m \u001b[34mdplyr\u001b[39m::\u001b[32mfilter()\u001b[39m masks \u001b[34mstats\u001b[39m::filter()\n",
      "\u001b[31m✖\u001b[39m \u001b[34mdplyr\u001b[39m::\u001b[32mlag()\u001b[39m    masks \u001b[34mstats\u001b[39m::lag()\n",
      "\u001b[36mℹ\u001b[39m Use the conflicted package (\u001b[3m\u001b[34m<http://conflicted.r-lib.org/>\u001b[39m\u001b[23m) to force all conflicts to become errors\n"
     ]
    }
   ],
   "source": [
    "# importing library needed for this case study \n",
    "\n",
    "library(tidyverse)\n",
    "library(ggplot2)\n",
    "library(readr)"
   ]
  },
  {
   "cell_type": "code",
   "execution_count": 2,
   "id": "8c4eae94",
   "metadata": {
    "execution": {
     "iopub.execute_input": "2024-02-20T22:33:16.357795Z",
     "iopub.status.busy": "2024-02-20T22:33:16.322306Z",
     "iopub.status.idle": "2024-02-20T22:33:23.639810Z",
     "shell.execute_reply": "2024-02-20T22:33:23.637381Z"
    },
    "papermill": {
     "duration": 7.336184,
     "end_time": "2024-02-20T22:33:23.643205",
     "exception": false,
     "start_time": "2024-02-20T22:33:16.307021",
     "status": "completed"
    },
    "tags": []
   },
   "outputs": [
    {
     "name": "stderr",
     "output_type": "stream",
     "text": [
      "\u001b[1mRows: \u001b[22m\u001b[34m365069\u001b[39m \u001b[1mColumns: \u001b[22m\u001b[34m12\u001b[39m\n",
      "\u001b[36m──\u001b[39m \u001b[1mColumn specification\u001b[22m \u001b[36m────────────────────────────────────────────────────────\u001b[39m\n",
      "\u001b[1mDelimiter:\u001b[22m \",\"\n",
      "\u001b[31mchr\u001b[39m (6): start_time, end_time, from_station_name, to_station_name, usertype,...\n",
      "\u001b[32mdbl\u001b[39m (5): trip_id, bikeid, from_station_id, to_station_id, birthyear\n",
      "\u001b[32mnum\u001b[39m (1): tripduration\n",
      "\n",
      "\u001b[36mℹ\u001b[39m Use `spec()` to retrieve the full column specification for this data.\n",
      "\u001b[36mℹ\u001b[39m Specify the column types or set `show_col_types = FALSE` to quiet this message.\n",
      "\u001b[1mRows: \u001b[22m\u001b[34m426887\u001b[39m \u001b[1mColumns: \u001b[22m\u001b[34m13\u001b[39m\n",
      "\u001b[36m──\u001b[39m \u001b[1mColumn specification\u001b[22m \u001b[36m────────────────────────────────────────────────────────\u001b[39m\n",
      "\u001b[1mDelimiter:\u001b[22m \",\"\n",
      "\u001b[31mchr\u001b[39m (7): ride_id, rideable_type, started_at, ended_at, start_station_name, e...\n",
      "\u001b[32mdbl\u001b[39m (6): start_station_id, end_station_id, start_lat, start_lng, end_lat, en...\n",
      "\n",
      "\u001b[36mℹ\u001b[39m Use `spec()` to retrieve the full column specification for this data.\n",
      "\u001b[36mℹ\u001b[39m Specify the column types or set `show_col_types = FALSE` to quiet this message.\n"
     ]
    }
   ],
   "source": [
    "#upload the data set\n",
    "\n",
    "Q1_Divvy_2019 <- read_csv(\"/kaggle/input/divvy-trips-2019-and-2020/Divvy_Trips_2019_Q1 - Divvy_Trips_2019_Q1 (1).csv\")\n",
    "Q1_Divvy_2020 <- read_csv(\"/kaggle/input/divvy-trips-2019-and-2020/Divvy_Trips_2020_Q1 - Divvy_Trips_2020_Q1.csv\")"
   ]
  },
  {
   "cell_type": "code",
   "execution_count": 3,
   "id": "d3fa05ec",
   "metadata": {
    "execution": {
     "iopub.execute_input": "2024-02-20T22:33:23.675458Z",
     "iopub.status.busy": "2024-02-20T22:33:23.673400Z",
     "iopub.status.idle": "2024-02-20T22:33:24.557842Z",
     "shell.execute_reply": "2024-02-20T22:33:24.555868Z"
    },
    "papermill": {
     "duration": 0.903323,
     "end_time": "2024-02-20T22:33:24.561099",
     "exception": false,
     "start_time": "2024-02-20T22:33:23.657776",
     "status": "completed"
    },
    "tags": []
   },
   "outputs": [
    {
     "data": {
      "text/html": [
       "<style>\n",
       ".list-inline {list-style: none; margin:0; padding: 0}\n",
       ".list-inline>li {display: inline-block}\n",
       ".list-inline>li:not(:last-child)::after {content: \"\\00b7\"; padding: 0 .5ex}\n",
       "</style>\n",
       "<ol class=list-inline><li>'trip_id'</li><li>'start_time'</li><li>'end_time'</li><li>'bikeid'</li><li>'tripduration'</li><li>'from_station_id'</li><li>'from_station_name'</li><li>'to_station_id'</li><li>'to_station_name'</li><li>'usertype'</li><li>'gender'</li><li>'birthyear'</li></ol>\n"
      ],
      "text/latex": [
       "\\begin{enumerate*}\n",
       "\\item 'trip\\_id'\n",
       "\\item 'start\\_time'\n",
       "\\item 'end\\_time'\n",
       "\\item 'bikeid'\n",
       "\\item 'tripduration'\n",
       "\\item 'from\\_station\\_id'\n",
       "\\item 'from\\_station\\_name'\n",
       "\\item 'to\\_station\\_id'\n",
       "\\item 'to\\_station\\_name'\n",
       "\\item 'usertype'\n",
       "\\item 'gender'\n",
       "\\item 'birthyear'\n",
       "\\end{enumerate*}\n"
      ],
      "text/markdown": [
       "1. 'trip_id'\n",
       "2. 'start_time'\n",
       "3. 'end_time'\n",
       "4. 'bikeid'\n",
       "5. 'tripduration'\n",
       "6. 'from_station_id'\n",
       "7. 'from_station_name'\n",
       "8. 'to_station_id'\n",
       "9. 'to_station_name'\n",
       "10. 'usertype'\n",
       "11. 'gender'\n",
       "12. 'birthyear'\n",
       "\n",
       "\n"
      ],
      "text/plain": [
       " [1] \"trip_id\"           \"start_time\"        \"end_time\"         \n",
       " [4] \"bikeid\"            \"tripduration\"      \"from_station_id\"  \n",
       " [7] \"from_station_name\" \"to_station_id\"     \"to_station_name\"  \n",
       "[10] \"usertype\"          \"gender\"            \"birthyear\"        "
      ]
     },
     "metadata": {},
     "output_type": "display_data"
    },
    {
     "data": {
      "text/plain": [
       "    trip_id          start_time          end_time             bikeid    \n",
       " Min.   :21742443   Length:365069      Length:365069      Min.   :   1  \n",
       " 1st Qu.:21848765   Class :character   Class :character   1st Qu.:1777  \n",
       " Median :21961829   Mode  :character   Mode  :character   Median :3489  \n",
       " Mean   :21960872                                         Mean   :3429  \n",
       " 3rd Qu.:22071823                                         3rd Qu.:5157  \n",
       " Max.   :22178528                                         Max.   :6471  \n",
       "                                                                        \n",
       "  tripduration      from_station_id from_station_name  to_station_id  \n",
       " Min.   :      61   Min.   :  2.0   Length:365069      Min.   :  2.0  \n",
       " 1st Qu.:     326   1st Qu.: 76.0   Class :character   1st Qu.: 76.0  \n",
       " Median :     524   Median :170.0   Mode  :character   Median :168.0  \n",
       " Mean   :    1016   Mean   :198.1                      Mean   :198.6  \n",
       " 3rd Qu.:     866   3rd Qu.:287.0                      3rd Qu.:287.0  \n",
       " Max.   :10628400   Max.   :665.0                      Max.   :665.0  \n",
       "                                                                      \n",
       " to_station_name      usertype            gender            birthyear    \n",
       " Length:365069      Length:365069      Length:365069      Min.   :1900   \n",
       " Class :character   Class :character   Class :character   1st Qu.:1975   \n",
       " Mode  :character   Mode  :character   Mode  :character   Median :1985   \n",
       "                                                          Mean   :1982   \n",
       "                                                          3rd Qu.:1990   \n",
       "                                                          Max.   :2003   \n",
       "                                                          NA's   :18023  "
      ]
     },
     "metadata": {},
     "output_type": "display_data"
    }
   ],
   "source": [
    "#checking the columns name for both dataset \n",
    "colnames(Q1_Divvy_2019)\n",
    "#colnames(Q1_Divvy_2020)\n",
    "\n",
    "#The summary of the two dataset \n",
    "summary(Q1_Divvy_2019)\n",
    "#summary(Q1_Divvy_2020)\n",
    "\n",
    "#The column names are not consistent in the two dataframe we need to rename the some \n",
    "# column names most especially in Divvy_2019 in order to join the tables without injunctions\n",
    "#Renaming columns in Q1_Divvy_2019\n"
   ]
  },
  {
   "cell_type": "code",
   "execution_count": 4,
   "id": "11e0ae5b",
   "metadata": {
    "execution": {
     "iopub.execute_input": "2024-02-20T22:33:24.592493Z",
     "iopub.status.busy": "2024-02-20T22:33:24.590689Z",
     "iopub.status.idle": "2024-02-20T22:33:24.846114Z",
     "shell.execute_reply": "2024-02-20T22:33:24.844093Z"
    },
    "papermill": {
     "duration": 0.275771,
     "end_time": "2024-02-20T22:33:24.850089",
     "exception": false,
     "start_time": "2024-02-20T22:33:24.574318",
     "status": "completed"
    },
    "tags": []
   },
   "outputs": [
    {
     "data": {
      "text/html": [
       "<table class=\"dataframe\">\n",
       "<caption>A spec_tbl_df: 365069 × 12</caption>\n",
       "<thead>\n",
       "\t<tr><th scope=col>ride_id</th><th scope=col>started_at</th><th scope=col>ended_at</th><th scope=col>rideable_type</th><th scope=col>tripduration</th><th scope=col>start_station_id</th><th scope=col>start_station_name</th><th scope=col>end_station_id</th><th scope=col>end_station_name</th><th scope=col>member_casual</th><th scope=col>gender</th><th scope=col>birthyear</th></tr>\n",
       "\t<tr><th scope=col>&lt;dbl&gt;</th><th scope=col>&lt;chr&gt;</th><th scope=col>&lt;chr&gt;</th><th scope=col>&lt;dbl&gt;</th><th scope=col>&lt;dbl&gt;</th><th scope=col>&lt;dbl&gt;</th><th scope=col>&lt;chr&gt;</th><th scope=col>&lt;dbl&gt;</th><th scope=col>&lt;chr&gt;</th><th scope=col>&lt;chr&gt;</th><th scope=col>&lt;chr&gt;</th><th scope=col>&lt;dbl&gt;</th></tr>\n",
       "</thead>\n",
       "<tbody>\n",
       "\t<tr><td>21742443</td><td>2019-01-01 0:04:37</td><td>2019-01-01 0:11:07</td><td>2167</td><td> 390</td><td>199</td><td><span style=white-space:pre-wrap>Wabash Ave &amp; Grand Ave             </span></td><td> 84</td><td><span style=white-space:pre-wrap>Milwaukee Ave &amp; Grand Ave     </span></td><td>Subscriber</td><td><span style=white-space:pre-wrap>Male  </span></td><td>1989</td></tr>\n",
       "\t<tr><td>21742444</td><td>2019-01-01 0:08:13</td><td>2019-01-01 0:15:34</td><td>4386</td><td> 441</td><td> 44</td><td><span style=white-space:pre-wrap>State St &amp; Randolph St             </span></td><td>624</td><td>Dearborn St &amp; Van Buren St (*)</td><td>Subscriber</td><td>Female</td><td>1990</td></tr>\n",
       "\t<tr><td>21742445</td><td>2019-01-01 0:13:23</td><td>2019-01-01 0:27:12</td><td>1524</td><td> 829</td><td> 15</td><td><span style=white-space:pre-wrap>Racine Ave &amp; 18th St               </span></td><td>644</td><td>Western Ave &amp; Fillmore St (*) </td><td>Subscriber</td><td>Female</td><td>1994</td></tr>\n",
       "\t<tr><td>21742446</td><td>2019-01-01 0:13:45</td><td>2019-01-01 0:43:28</td><td> 252</td><td>1783</td><td>123</td><td><span style=white-space:pre-wrap>California Ave &amp; Milwaukee Ave     </span></td><td>176</td><td><span style=white-space:pre-wrap>Clark St &amp; Elm St             </span></td><td>Subscriber</td><td><span style=white-space:pre-wrap>Male  </span></td><td>1993</td></tr>\n",
       "\t<tr><td>21742447</td><td>2019-01-01 0:14:52</td><td>2019-01-01 0:20:56</td><td>1170</td><td> 364</td><td>173</td><td>Mies van der Rohe Way &amp; Chicago Ave</td><td> 35</td><td><span style=white-space:pre-wrap>Streeter Dr &amp; Grand Ave       </span></td><td>Subscriber</td><td><span style=white-space:pre-wrap>Male  </span></td><td>1994</td></tr>\n",
       "\t<tr><td>21742448</td><td>2019-01-01 0:15:33</td><td>2019-01-01 0:19:09</td><td>2437</td><td> 216</td><td> 98</td><td><span style=white-space:pre-wrap>LaSalle St &amp; Washington St         </span></td><td> 49</td><td><span style=white-space:pre-wrap>Dearborn St &amp; Monroe St       </span></td><td>Subscriber</td><td>Female</td><td>1983</td></tr>\n",
       "\t<tr><td>21742449</td><td>2019-01-01 0:16:06</td><td>2019-01-01 0:19:03</td><td>2708</td><td> 177</td><td> 98</td><td><span style=white-space:pre-wrap>LaSalle St &amp; Washington St         </span></td><td> 49</td><td><span style=white-space:pre-wrap>Dearborn St &amp; Monroe St       </span></td><td>Subscriber</td><td><span style=white-space:pre-wrap>Male  </span></td><td>1984</td></tr>\n",
       "\t<tr><td>21742450</td><td>2019-01-01 0:18:41</td><td>2019-01-01 0:20:21</td><td>2796</td><td> 100</td><td>211</td><td><span style=white-space:pre-wrap>St. Clair St &amp; Erie St             </span></td><td>142</td><td><span style=white-space:pre-wrap>McClurg Ct &amp; Erie St          </span></td><td>Subscriber</td><td><span style=white-space:pre-wrap>Male  </span></td><td>1990</td></tr>\n",
       "\t<tr><td>21742451</td><td>2019-01-01 0:18:43</td><td>2019-01-01 0:47:30</td><td>6205</td><td>1727</td><td>150</td><td><span style=white-space:pre-wrap>Fort Dearborn Dr &amp; 31st St         </span></td><td>148</td><td><span style=white-space:pre-wrap>State St &amp; 33rd St            </span></td><td>Subscriber</td><td><span style=white-space:pre-wrap>Male  </span></td><td>1995</td></tr>\n",
       "\t<tr><td>21742452</td><td>2019-01-01 0:19:18</td><td>2019-01-01 0:24:54</td><td>3939</td><td> 336</td><td>268</td><td><span style=white-space:pre-wrap>Lake Shore Dr &amp; North Blvd         </span></td><td>141</td><td><span style=white-space:pre-wrap>Clark St &amp; Lincoln Ave        </span></td><td>Subscriber</td><td><span style=white-space:pre-wrap>Male  </span></td><td>1996</td></tr>\n",
       "\t<tr><td>21742453</td><td>2019-01-01 0:20:34</td><td>2019-01-01 0:35:20</td><td>6243</td><td> 886</td><td>299</td><td><span style=white-space:pre-wrap>Halsted St &amp; Roscoe St             </span></td><td>295</td><td><span style=white-space:pre-wrap>Broadway &amp; Argyle St          </span></td><td>Subscriber</td><td><span style=white-space:pre-wrap>Male  </span></td><td>1994</td></tr>\n",
       "\t<tr><td>21742454</td><td>2019-01-01 0:21:52</td><td>2019-01-01 0:32:45</td><td>6300</td><td> 653</td><td>204</td><td><span style=white-space:pre-wrap>Prairie Ave &amp; Garfield Blvd        </span></td><td>420</td><td><span style=white-space:pre-wrap>Ellis Ave &amp; 55th St           </span></td><td>Subscriber</td><td>Female</td><td>1994</td></tr>\n",
       "\t<tr><td>21742455</td><td>2019-01-01 0:23:04</td><td>2019-01-01 0:33:05</td><td>3029</td><td> 601</td><td> 90</td><td><span style=white-space:pre-wrap>Millennium Park                    </span></td><td>255</td><td><span style=white-space:pre-wrap>Indiana Ave &amp; Roosevelt Rd    </span></td><td>Subscriber</td><td><span style=white-space:pre-wrap>Male  </span></td><td>1986</td></tr>\n",
       "\t<tr><td>21742456</td><td>2019-01-01 0:23:43</td><td>2019-01-01 0:33:05</td><td><span style=white-space:pre-wrap>  84</span></td><td> 562</td><td> 90</td><td><span style=white-space:pre-wrap>Millennium Park                    </span></td><td>255</td><td><span style=white-space:pre-wrap>Indiana Ave &amp; Roosevelt Rd    </span></td><td><span style=white-space:pre-wrap>Customer  </span></td><td>Female</td><td>1990</td></tr>\n",
       "\t<tr><td>21742457</td><td>2019-01-01 0:23:54</td><td>2019-01-01 0:39:00</td><td>5019</td><td> 906</td><td>289</td><td><span style=white-space:pre-wrap>Wells St &amp; Concord Ln              </span></td><td>324</td><td><span style=white-space:pre-wrap>Stockton Dr &amp; Wrightwood Ave  </span></td><td>Subscriber</td><td>Female</td><td>1989</td></tr>\n",
       "\t<tr><td>21742458</td><td>2019-01-01 0:24:08</td><td>2019-01-01 0:39:00</td><td>5526</td><td> 892</td><td>289</td><td><span style=white-space:pre-wrap>Wells St &amp; Concord Ln              </span></td><td>324</td><td><span style=white-space:pre-wrap>Stockton Dr &amp; Wrightwood Ave  </span></td><td>Subscriber</td><td>Female</td><td>1989</td></tr>\n",
       "\t<tr><td>21742459</td><td>2019-01-01 0:24:13</td><td>2019-01-01 0:31:00</td><td>3373</td><td> 407</td><td>152</td><td><span style=white-space:pre-wrap>Lincoln Ave &amp; Diversey Pkwy        </span></td><td>166</td><td><span style=white-space:pre-wrap>Ashland Ave &amp; Wrightwood Ave  </span></td><td>Subscriber</td><td><span style=white-space:pre-wrap>Male  </span></td><td>1967</td></tr>\n",
       "\t<tr><td>21742460</td><td>2019-01-01 0:24:27</td><td>2019-01-01 0:47:03</td><td>5777</td><td>1356</td><td>268</td><td><span style=white-space:pre-wrap>Lake Shore Dr &amp; North Blvd         </span></td><td>319</td><td>Greenview Ave &amp; Diversey Pkwy </td><td><span style=white-space:pre-wrap>Customer  </span></td><td>Female</td><td>1990</td></tr>\n",
       "\t<tr><td>21742461</td><td>2019-01-01 0:25:28</td><td>2019-01-01 0:27:10</td><td>3940</td><td> 102</td><td> 35</td><td><span style=white-space:pre-wrap>Streeter Dr &amp; Grand Ave            </span></td><td> 35</td><td><span style=white-space:pre-wrap>Streeter Dr &amp; Grand Ave       </span></td><td>Subscriber</td><td><span style=white-space:pre-wrap>Male  </span></td><td>1985</td></tr>\n",
       "\t<tr><td>21742463</td><td>2019-01-01 0:29:19</td><td>2019-01-01 1:08:12</td><td>3914</td><td>2333</td><td> 35</td><td><span style=white-space:pre-wrap>Streeter Dr &amp; Grand Ave            </span></td><td> 39</td><td><span style=white-space:pre-wrap>Wabash Ave &amp; Adams St         </span></td><td><span style=white-space:pre-wrap>Customer  </span></td><td><span style=white-space:pre-wrap>NA    </span></td><td><span style=white-space:pre-wrap>  NA</span></td></tr>\n",
       "\t<tr><td>21742464</td><td>2019-01-01 0:29:21</td><td>2019-01-01 0:45:21</td><td> 140</td><td> 960</td><td> 47</td><td><span style=white-space:pre-wrap>State St &amp; Kinzie St               </span></td><td>111</td><td><span style=white-space:pre-wrap>Sedgwick St &amp; Huron St        </span></td><td>Subscriber</td><td><span style=white-space:pre-wrap>Male  </span></td><td>1957</td></tr>\n",
       "\t<tr><td>21742465</td><td>2019-01-01 0:29:28</td><td>2019-01-01 1:07:49</td><td>3355</td><td>2301</td><td> 35</td><td><span style=white-space:pre-wrap>Streeter Dr &amp; Grand Ave            </span></td><td> 39</td><td><span style=white-space:pre-wrap>Wabash Ave &amp; Adams St         </span></td><td><span style=white-space:pre-wrap>Customer  </span></td><td><span style=white-space:pre-wrap>NA    </span></td><td><span style=white-space:pre-wrap>  NA</span></td></tr>\n",
       "\t<tr><td>21742466</td><td>2019-01-01 0:29:47</td><td>2019-01-01 0:49:15</td><td>5026</td><td>1168</td><td> 85</td><td><span style=white-space:pre-wrap>Michigan Ave &amp; Oak St              </span></td><td>329</td><td>Lake Shore Dr &amp; Diversey Pkwy </td><td>Subscriber</td><td><span style=white-space:pre-wrap>Male  </span></td><td>1959</td></tr>\n",
       "\t<tr><td>21742467</td><td>2019-01-01 0:30:48</td><td>2019-01-01 0:38:42</td><td>1998</td><td> 474</td><td>289</td><td><span style=white-space:pre-wrap>Wells St &amp; Concord Ln              </span></td><td>313</td><td>Lakeview Ave &amp; Fullerton Pkwy </td><td>Subscriber</td><td><span style=white-space:pre-wrap>Male  </span></td><td>1994</td></tr>\n",
       "\t<tr><td>21742468</td><td>2019-01-01 0:33:09</td><td>2019-01-01 0:50:25</td><td>2630</td><td>1036</td><td> 13</td><td><span style=white-space:pre-wrap>Wilton Ave &amp; Diversey Pkwy         </span></td><td> 61</td><td><span style=white-space:pre-wrap>Wood St &amp; Milwaukee Ave       </span></td><td>Subscriber</td><td><span style=white-space:pre-wrap>Male  </span></td><td>1991</td></tr>\n",
       "\t<tr><td>21742469</td><td>2019-01-01 0:34:35</td><td>2019-01-01 0:38:25</td><td>3722</td><td> 230</td><td>520</td><td><span style=white-space:pre-wrap>Greenview Ave &amp; Jarvis Ave         </span></td><td>523</td><td><span style=white-space:pre-wrap>Eastlake Ter &amp; Rogers Ave     </span></td><td>Subscriber</td><td><span style=white-space:pre-wrap>Male  </span></td><td>1961</td></tr>\n",
       "\t<tr><td>21742471</td><td>2019-01-01 0:38:11</td><td>2019-01-01 0:50:38</td><td>1166</td><td> 747</td><td>256</td><td><span style=white-space:pre-wrap>Broadway &amp; Sheridan Rd             </span></td><td>297</td><td><span style=white-space:pre-wrap>Paulina St &amp; Montrose Ave     </span></td><td>Subscriber</td><td><span style=white-space:pre-wrap>Male  </span></td><td>1968</td></tr>\n",
       "\t<tr><td>21742472</td><td>2019-01-01 0:38:47</td><td>2019-01-01 0:50:38</td><td>1704</td><td> 711</td><td>256</td><td><span style=white-space:pre-wrap>Broadway &amp; Sheridan Rd             </span></td><td>297</td><td><span style=white-space:pre-wrap>Paulina St &amp; Montrose Ave     </span></td><td>Subscriber</td><td><span style=white-space:pre-wrap>Male  </span></td><td>1964</td></tr>\n",
       "\t<tr><td>21742473</td><td>2019-01-01 0:40:16</td><td>2019-01-01 0:49:29</td><td>1476</td><td> 553</td><td>254</td><td><span style=white-space:pre-wrap>Pine Grove Ave &amp; Irving Park Rd    </span></td><td>465</td><td><span style=white-space:pre-wrap>Marine Dr &amp; Ainslie St        </span></td><td>Subscriber</td><td><span style=white-space:pre-wrap>Male  </span></td><td>1990</td></tr>\n",
       "\t<tr><td>21742474</td><td>2019-01-01 0:41:46</td><td>2019-01-01 0:50:27</td><td>4614</td><td> 521</td><td> 66</td><td><span style=white-space:pre-wrap>Clinton St &amp; Lake St               </span></td><td> 52</td><td><span style=white-space:pre-wrap>Michigan Ave &amp; Lake St        </span></td><td>Subscriber</td><td><span style=white-space:pre-wrap>Male  </span></td><td>1994</td></tr>\n",
       "\t<tr><td>⋮</td><td>⋮</td><td>⋮</td><td>⋮</td><td>⋮</td><td>⋮</td><td>⋮</td><td>⋮</td><td>⋮</td><td>⋮</td><td>⋮</td><td>⋮</td></tr>\n",
       "\t<tr><td>22178488</td><td>2019-03-31 22:51:02</td><td>2019-03-31 22:54:00</td><td>4602</td><td>178</td><td>460</td><td><span style=white-space:pre-wrap>Clark St &amp; Bryn Mawr Ave           </span></td><td>461</td><td><span style=white-space:pre-wrap>Broadway &amp; Ridge Ave                </span></td><td>Subscriber</td><td><span style=white-space:pre-wrap>Male  </span></td><td>1986</td></tr>\n",
       "\t<tr><td>22178489</td><td>2019-03-31 22:54:00</td><td>2019-03-31 23:02:49</td><td>4151</td><td>529</td><td> 47</td><td><span style=white-space:pre-wrap>State St &amp; Kinzie St               </span></td><td> 26</td><td><span style=white-space:pre-wrap>McClurg Ct &amp; Illinois St            </span></td><td>Subscriber</td><td><span style=white-space:pre-wrap>Male  </span></td><td>1990</td></tr>\n",
       "\t<tr><td>22178490</td><td>2019-03-31 22:55:28</td><td>2019-03-31 23:02:10</td><td>3833</td><td>402</td><td>108</td><td><span style=white-space:pre-wrap>Halsted St &amp; Polk St               </span></td><td> 19</td><td><span style=white-space:pre-wrap>Loomis St &amp; Taylor St (*)           </span></td><td>Subscriber</td><td><span style=white-space:pre-wrap>Male  </span></td><td>1992</td></tr>\n",
       "\t<tr><td>22178491</td><td>2019-03-31 22:58:00</td><td>2019-03-31 23:06:12</td><td>1374</td><td>492</td><td>108</td><td><span style=white-space:pre-wrap>Halsted St &amp; Polk St               </span></td><td> 41</td><td><span style=white-space:pre-wrap>Federal St &amp; Polk St                </span></td><td>Subscriber</td><td><span style=white-space:pre-wrap>Male  </span></td><td>1992</td></tr>\n",
       "\t<tr><td>22178492</td><td>2019-03-31 22:59:35</td><td>2019-03-31 23:01:38</td><td>3723</td><td>123</td><td> 66</td><td><span style=white-space:pre-wrap>Clinton St &amp; Lake St               </span></td><td> 77</td><td><span style=white-space:pre-wrap>Clinton St &amp; Madison St             </span></td><td>Subscriber</td><td>Female</td><td>1985</td></tr>\n",
       "\t<tr><td>22178493</td><td>2019-03-31 23:00:17</td><td>2019-03-31 23:10:52</td><td>2331</td><td>635</td><td> 51</td><td><span style=white-space:pre-wrap>Clark St &amp; Randolph St             </span></td><td>364</td><td><span style=white-space:pre-wrap>Larrabee St &amp; Oak St                </span></td><td>Subscriber</td><td><span style=white-space:pre-wrap>Male  </span></td><td>1972</td></tr>\n",
       "\t<tr><td>22178494</td><td>2019-03-31 23:00:28</td><td>2019-03-31 23:09:20</td><td>1312</td><td>532</td><td> 98</td><td><span style=white-space:pre-wrap>LaSalle St &amp; Washington St         </span></td><td> 22</td><td><span style=white-space:pre-wrap>May St &amp; Taylor St                  </span></td><td><span style=white-space:pre-wrap>Customer  </span></td><td><span style=white-space:pre-wrap>Male  </span></td><td>1993</td></tr>\n",
       "\t<tr><td>22178495</td><td>2019-03-31 23:00:43</td><td>2019-03-31 23:13:04</td><td>6205</td><td>741</td><td>301</td><td><span style=white-space:pre-wrap>Clark St &amp; Schiller St             </span></td><td>115</td><td><span style=white-space:pre-wrap>Sheffield Ave &amp; Wellington Ave      </span></td><td>Subscriber</td><td><span style=white-space:pre-wrap>Male  </span></td><td>1988</td></tr>\n",
       "\t<tr><td>22178502</td><td>2019-03-31 23:03:01</td><td>2019-03-31 23:15:20</td><td>3360</td><td>739</td><td>295</td><td><span style=white-space:pre-wrap>Broadway &amp; Argyle St               </span></td><td>451</td><td><span style=white-space:pre-wrap>Sheridan Rd &amp; Loyola Ave            </span></td><td>Subscriber</td><td><span style=white-space:pre-wrap>Male  </span></td><td>1992</td></tr>\n",
       "\t<tr><td>22178503</td><td>2019-03-31 23:09:40</td><td>2019-03-31 23:19:30</td><td>6416</td><td>590</td><td>114</td><td><span style=white-space:pre-wrap>Sheffield Ave &amp; Waveland Ave       </span></td><td>330</td><td><span style=white-space:pre-wrap>Lincoln Ave &amp; Addison St            </span></td><td>Subscriber</td><td>Female</td><td>1985</td></tr>\n",
       "\t<tr><td>22178504</td><td>2019-03-31 23:10:19</td><td>2019-03-31 23:21:33</td><td>3767</td><td>674</td><td> 50</td><td><span style=white-space:pre-wrap>Clark St &amp; Ida B Wells Dr          </span></td><td> 50</td><td><span style=white-space:pre-wrap>Clark St &amp; Ida B Wells Dr           </span></td><td>Subscriber</td><td><span style=white-space:pre-wrap>Male  </span></td><td>1957</td></tr>\n",
       "\t<tr><td>22178505</td><td>2019-03-31 23:11:15</td><td>2019-03-31 23:20:27</td><td>1646</td><td>552</td><td>111</td><td><span style=white-space:pre-wrap>Sedgwick St &amp; Huron St             </span></td><td>301</td><td><span style=white-space:pre-wrap>Clark St &amp; Schiller St              </span></td><td>Subscriber</td><td><span style=white-space:pre-wrap>Male  </span></td><td>1994</td></tr>\n",
       "\t<tr><td>22178506</td><td>2019-03-31 23:15:53</td><td>2019-03-31 23:20:27</td><td> 632</td><td>274</td><td> 16</td><td><span style=white-space:pre-wrap>Paulina Ave &amp; North Ave            </span></td><td>158</td><td><span style=white-space:pre-wrap>Milwaukee Ave &amp; Wabansia Ave        </span></td><td>Subscriber</td><td><span style=white-space:pre-wrap>Male  </span></td><td>1991</td></tr>\n",
       "\t<tr><td>22178507</td><td>2019-03-31 23:16:57</td><td>2019-03-31 23:22:42</td><td>1537</td><td>345</td><td>173</td><td>Mies van der Rohe Way &amp; Chicago Ave</td><td>172</td><td><span style=white-space:pre-wrap>Rush St &amp; Cedar St                  </span></td><td>Subscriber</td><td><span style=white-space:pre-wrap>Male  </span></td><td>1980</td></tr>\n",
       "\t<tr><td>22178508</td><td>2019-03-31 23:18:42</td><td>2019-03-31 23:30:40</td><td>1952</td><td>718</td><td>301</td><td><span style=white-space:pre-wrap>Clark St &amp; Schiller St             </span></td><td>210</td><td><span style=white-space:pre-wrap>Ashland Ave &amp; Division St           </span></td><td>Subscriber</td><td><span style=white-space:pre-wrap>Male  </span></td><td>1988</td></tr>\n",
       "\t<tr><td>22178509</td><td>2019-03-31 23:20:36</td><td>2019-03-31 23:28:12</td><td>5331</td><td>456</td><td>115</td><td><span style=white-space:pre-wrap>Sheffield Ave &amp; Wellington Ave     </span></td><td>313</td><td><span style=white-space:pre-wrap>Lakeview Ave &amp; Fullerton Pkwy       </span></td><td>Subscriber</td><td><span style=white-space:pre-wrap>Male  </span></td><td>1987</td></tr>\n",
       "\t<tr><td>22178510</td><td>2019-03-31 23:21:07</td><td>2019-03-31 23:25:12</td><td><span style=white-space:pre-wrap>  67</span></td><td>245</td><td>325</td><td><span style=white-space:pre-wrap>Clark St &amp; Winnemac Ave            </span></td><td>464</td><td><span style=white-space:pre-wrap>Damen Ave &amp; Foster Ave              </span></td><td>Subscriber</td><td><span style=white-space:pre-wrap>Male  </span></td><td>1983</td></tr>\n",
       "\t<tr><td>22178515</td><td>2019-03-31 23:26:00</td><td>2019-03-31 23:37:24</td><td>2965</td><td>684</td><td>403</td><td><span style=white-space:pre-wrap>Wentworth Ave &amp; 33rd St            </span></td><td>263</td><td><span style=white-space:pre-wrap>Rhodes Ave &amp; 32nd St                </span></td><td>Subscriber</td><td><span style=white-space:pre-wrap>Male  </span></td><td>1984</td></tr>\n",
       "\t<tr><td>22178516</td><td>2019-03-31 23:31:30</td><td>2019-03-31 23:35:29</td><td>5747</td><td>239</td><td>309</td><td><span style=white-space:pre-wrap>Leavitt St &amp; Armitage Ave          </span></td><td>219</td><td><span style=white-space:pre-wrap>Damen Ave &amp; Cortland St             </span></td><td>Subscriber</td><td><span style=white-space:pre-wrap>Male  </span></td><td>1970</td></tr>\n",
       "\t<tr><td>22178517</td><td>2019-03-31 23:32:54</td><td>2019-03-31 23:37:50</td><td>2846</td><td>296</td><td>181</td><td><span style=white-space:pre-wrap>LaSalle St &amp; Illinois St           </span></td><td> 24</td><td><span style=white-space:pre-wrap>Fairbanks Ct &amp; Grand Ave            </span></td><td><span style=white-space:pre-wrap>Customer  </span></td><td><span style=white-space:pre-wrap>NA    </span></td><td><span style=white-space:pre-wrap>  NA</span></td></tr>\n",
       "\t<tr><td>22178518</td><td>2019-03-31 23:33:02</td><td>2019-03-31 23:43:15</td><td>2772</td><td>613</td><td>210</td><td><span style=white-space:pre-wrap>Ashland Ave &amp; Division St          </span></td><td>210</td><td><span style=white-space:pre-wrap>Ashland Ave &amp; Division St           </span></td><td>Subscriber</td><td><span style=white-space:pre-wrap>Male  </span></td><td>1972</td></tr>\n",
       "\t<tr><td>22178519</td><td>2019-03-31 23:33:14</td><td>2019-03-31 23:37:40</td><td>4304</td><td>266</td><td>181</td><td><span style=white-space:pre-wrap>LaSalle St &amp; Illinois St           </span></td><td> 24</td><td><span style=white-space:pre-wrap>Fairbanks Ct &amp; Grand Ave            </span></td><td><span style=white-space:pre-wrap>Customer  </span></td><td><span style=white-space:pre-wrap>NA    </span></td><td><span style=white-space:pre-wrap>  NA</span></td></tr>\n",
       "\t<tr><td>22178520</td><td>2019-03-31 23:34:08</td><td>2019-03-31 23:38:07</td><td> 667</td><td>239</td><td>199</td><td><span style=white-space:pre-wrap>Wabash Ave &amp; Grand Ave             </span></td><td> 26</td><td><span style=white-space:pre-wrap>McClurg Ct &amp; Illinois St            </span></td><td>Subscriber</td><td>Female</td><td>1984</td></tr>\n",
       "\t<tr><td>22178521</td><td>2019-03-31 23:39:48</td><td>2019-03-31 23:41:41</td><td>4814</td><td>113</td><td>198</td><td><span style=white-space:pre-wrap>Green St &amp; Madison St              </span></td><td>233</td><td><span style=white-space:pre-wrap>Sangamon St &amp; Washington Blvd (*)   </span></td><td>Subscriber</td><td><span style=white-space:pre-wrap>Male  </span></td><td>1971</td></tr>\n",
       "\t<tr><td>22178522</td><td>2019-03-31 23:47:05</td><td>2019-03-31 23:51:35</td><td>3873</td><td>270</td><td> 69</td><td><span style=white-space:pre-wrap>Damen Ave &amp; Pierce Ave             </span></td><td>183</td><td>Damen Ave &amp; Thomas St (Augusta Blvd)</td><td>Subscriber</td><td><span style=white-space:pre-wrap>Male  </span></td><td>1985</td></tr>\n",
       "\t<tr><td>22178524</td><td>2019-03-31 23:51:32</td><td>2019-04-01 0:04:09 </td><td>1501</td><td>757</td><td> 38</td><td><span style=white-space:pre-wrap>Clark St &amp; Lake St                 </span></td><td> 29</td><td><span style=white-space:pre-wrap>Noble St &amp; Milwaukee Ave            </span></td><td>Subscriber</td><td><span style=white-space:pre-wrap>Male  </span></td><td>1993</td></tr>\n",
       "\t<tr><td>22178525</td><td>2019-03-31 23:52:37</td><td>2019-03-31 23:58:09</td><td>3270</td><td>332</td><td>129</td><td><span style=white-space:pre-wrap>Blue Island Ave &amp; 18th St          </span></td><td>202</td><td><span style=white-space:pre-wrap>Halsted St &amp; 18th St                </span></td><td>Subscriber</td><td><span style=white-space:pre-wrap>Male  </span></td><td>1992</td></tr>\n",
       "\t<tr><td>22178526</td><td>2019-03-31 23:52:38</td><td>2019-04-01 0:06:44 </td><td>3584</td><td>846</td><td>283</td><td><span style=white-space:pre-wrap>LaSalle St &amp; Jackson Blvd          </span></td><td>273</td><td><span style=white-space:pre-wrap>Michigan Ave &amp; 18th St              </span></td><td>Subscriber</td><td><span style=white-space:pre-wrap>Male  </span></td><td>1984</td></tr>\n",
       "\t<tr><td>22178527</td><td>2019-03-31 23:53:08</td><td>2019-03-31 23:56:06</td><td>4384</td><td>178</td><td>321</td><td><span style=white-space:pre-wrap>Wabash Ave &amp; 9th St                </span></td><td> 39</td><td><span style=white-space:pre-wrap>Wabash Ave &amp; Adams St               </span></td><td>Subscriber</td><td><span style=white-space:pre-wrap>Male  </span></td><td>1969</td></tr>\n",
       "\t<tr><td>22178528</td><td>2019-03-31 23:53:48</td><td>2019-04-01 0:01:16 </td><td>5589</td><td>448</td><td>248</td><td><span style=white-space:pre-wrap>Woodlawn Ave &amp; 55th St             </span></td><td>247</td><td><span style=white-space:pre-wrap>Shore Dr &amp; 55th St                  </span></td><td>Subscriber</td><td><span style=white-space:pre-wrap>Male  </span></td><td>1998</td></tr>\n",
       "</tbody>\n",
       "</table>\n"
      ],
      "text/latex": [
       "A spec\\_tbl\\_df: 365069 × 12\n",
       "\\begin{tabular}{llllllllllll}\n",
       " ride\\_id & started\\_at & ended\\_at & rideable\\_type & tripduration & start\\_station\\_id & start\\_station\\_name & end\\_station\\_id & end\\_station\\_name & member\\_casual & gender & birthyear\\\\\n",
       " <dbl> & <chr> & <chr> & <dbl> & <dbl> & <dbl> & <chr> & <dbl> & <chr> & <chr> & <chr> & <dbl>\\\\\n",
       "\\hline\n",
       "\t 21742443 & 2019-01-01 0:04:37 & 2019-01-01 0:11:07 & 2167 &  390 & 199 & Wabash Ave \\& Grand Ave              &  84 & Milwaukee Ave \\& Grand Ave      & Subscriber & Male   & 1989\\\\\n",
       "\t 21742444 & 2019-01-01 0:08:13 & 2019-01-01 0:15:34 & 4386 &  441 &  44 & State St \\& Randolph St              & 624 & Dearborn St \\& Van Buren St (*) & Subscriber & Female & 1990\\\\\n",
       "\t 21742445 & 2019-01-01 0:13:23 & 2019-01-01 0:27:12 & 1524 &  829 &  15 & Racine Ave \\& 18th St                & 644 & Western Ave \\& Fillmore St (*)  & Subscriber & Female & 1994\\\\\n",
       "\t 21742446 & 2019-01-01 0:13:45 & 2019-01-01 0:43:28 &  252 & 1783 & 123 & California Ave \\& Milwaukee Ave      & 176 & Clark St \\& Elm St              & Subscriber & Male   & 1993\\\\\n",
       "\t 21742447 & 2019-01-01 0:14:52 & 2019-01-01 0:20:56 & 1170 &  364 & 173 & Mies van der Rohe Way \\& Chicago Ave &  35 & Streeter Dr \\& Grand Ave        & Subscriber & Male   & 1994\\\\\n",
       "\t 21742448 & 2019-01-01 0:15:33 & 2019-01-01 0:19:09 & 2437 &  216 &  98 & LaSalle St \\& Washington St          &  49 & Dearborn St \\& Monroe St        & Subscriber & Female & 1983\\\\\n",
       "\t 21742449 & 2019-01-01 0:16:06 & 2019-01-01 0:19:03 & 2708 &  177 &  98 & LaSalle St \\& Washington St          &  49 & Dearborn St \\& Monroe St        & Subscriber & Male   & 1984\\\\\n",
       "\t 21742450 & 2019-01-01 0:18:41 & 2019-01-01 0:20:21 & 2796 &  100 & 211 & St. Clair St \\& Erie St              & 142 & McClurg Ct \\& Erie St           & Subscriber & Male   & 1990\\\\\n",
       "\t 21742451 & 2019-01-01 0:18:43 & 2019-01-01 0:47:30 & 6205 & 1727 & 150 & Fort Dearborn Dr \\& 31st St          & 148 & State St \\& 33rd St             & Subscriber & Male   & 1995\\\\\n",
       "\t 21742452 & 2019-01-01 0:19:18 & 2019-01-01 0:24:54 & 3939 &  336 & 268 & Lake Shore Dr \\& North Blvd          & 141 & Clark St \\& Lincoln Ave         & Subscriber & Male   & 1996\\\\\n",
       "\t 21742453 & 2019-01-01 0:20:34 & 2019-01-01 0:35:20 & 6243 &  886 & 299 & Halsted St \\& Roscoe St              & 295 & Broadway \\& Argyle St           & Subscriber & Male   & 1994\\\\\n",
       "\t 21742454 & 2019-01-01 0:21:52 & 2019-01-01 0:32:45 & 6300 &  653 & 204 & Prairie Ave \\& Garfield Blvd         & 420 & Ellis Ave \\& 55th St            & Subscriber & Female & 1994\\\\\n",
       "\t 21742455 & 2019-01-01 0:23:04 & 2019-01-01 0:33:05 & 3029 &  601 &  90 & Millennium Park                     & 255 & Indiana Ave \\& Roosevelt Rd     & Subscriber & Male   & 1986\\\\\n",
       "\t 21742456 & 2019-01-01 0:23:43 & 2019-01-01 0:33:05 &   84 &  562 &  90 & Millennium Park                     & 255 & Indiana Ave \\& Roosevelt Rd     & Customer   & Female & 1990\\\\\n",
       "\t 21742457 & 2019-01-01 0:23:54 & 2019-01-01 0:39:00 & 5019 &  906 & 289 & Wells St \\& Concord Ln               & 324 & Stockton Dr \\& Wrightwood Ave   & Subscriber & Female & 1989\\\\\n",
       "\t 21742458 & 2019-01-01 0:24:08 & 2019-01-01 0:39:00 & 5526 &  892 & 289 & Wells St \\& Concord Ln               & 324 & Stockton Dr \\& Wrightwood Ave   & Subscriber & Female & 1989\\\\\n",
       "\t 21742459 & 2019-01-01 0:24:13 & 2019-01-01 0:31:00 & 3373 &  407 & 152 & Lincoln Ave \\& Diversey Pkwy         & 166 & Ashland Ave \\& Wrightwood Ave   & Subscriber & Male   & 1967\\\\\n",
       "\t 21742460 & 2019-01-01 0:24:27 & 2019-01-01 0:47:03 & 5777 & 1356 & 268 & Lake Shore Dr \\& North Blvd          & 319 & Greenview Ave \\& Diversey Pkwy  & Customer   & Female & 1990\\\\\n",
       "\t 21742461 & 2019-01-01 0:25:28 & 2019-01-01 0:27:10 & 3940 &  102 &  35 & Streeter Dr \\& Grand Ave             &  35 & Streeter Dr \\& Grand Ave        & Subscriber & Male   & 1985\\\\\n",
       "\t 21742463 & 2019-01-01 0:29:19 & 2019-01-01 1:08:12 & 3914 & 2333 &  35 & Streeter Dr \\& Grand Ave             &  39 & Wabash Ave \\& Adams St          & Customer   & NA     &   NA\\\\\n",
       "\t 21742464 & 2019-01-01 0:29:21 & 2019-01-01 0:45:21 &  140 &  960 &  47 & State St \\& Kinzie St                & 111 & Sedgwick St \\& Huron St         & Subscriber & Male   & 1957\\\\\n",
       "\t 21742465 & 2019-01-01 0:29:28 & 2019-01-01 1:07:49 & 3355 & 2301 &  35 & Streeter Dr \\& Grand Ave             &  39 & Wabash Ave \\& Adams St          & Customer   & NA     &   NA\\\\\n",
       "\t 21742466 & 2019-01-01 0:29:47 & 2019-01-01 0:49:15 & 5026 & 1168 &  85 & Michigan Ave \\& Oak St               & 329 & Lake Shore Dr \\& Diversey Pkwy  & Subscriber & Male   & 1959\\\\\n",
       "\t 21742467 & 2019-01-01 0:30:48 & 2019-01-01 0:38:42 & 1998 &  474 & 289 & Wells St \\& Concord Ln               & 313 & Lakeview Ave \\& Fullerton Pkwy  & Subscriber & Male   & 1994\\\\\n",
       "\t 21742468 & 2019-01-01 0:33:09 & 2019-01-01 0:50:25 & 2630 & 1036 &  13 & Wilton Ave \\& Diversey Pkwy          &  61 & Wood St \\& Milwaukee Ave        & Subscriber & Male   & 1991\\\\\n",
       "\t 21742469 & 2019-01-01 0:34:35 & 2019-01-01 0:38:25 & 3722 &  230 & 520 & Greenview Ave \\& Jarvis Ave          & 523 & Eastlake Ter \\& Rogers Ave      & Subscriber & Male   & 1961\\\\\n",
       "\t 21742471 & 2019-01-01 0:38:11 & 2019-01-01 0:50:38 & 1166 &  747 & 256 & Broadway \\& Sheridan Rd              & 297 & Paulina St \\& Montrose Ave      & Subscriber & Male   & 1968\\\\\n",
       "\t 21742472 & 2019-01-01 0:38:47 & 2019-01-01 0:50:38 & 1704 &  711 & 256 & Broadway \\& Sheridan Rd              & 297 & Paulina St \\& Montrose Ave      & Subscriber & Male   & 1964\\\\\n",
       "\t 21742473 & 2019-01-01 0:40:16 & 2019-01-01 0:49:29 & 1476 &  553 & 254 & Pine Grove Ave \\& Irving Park Rd     & 465 & Marine Dr \\& Ainslie St         & Subscriber & Male   & 1990\\\\\n",
       "\t 21742474 & 2019-01-01 0:41:46 & 2019-01-01 0:50:27 & 4614 &  521 &  66 & Clinton St \\& Lake St                &  52 & Michigan Ave \\& Lake St         & Subscriber & Male   & 1994\\\\\n",
       "\t ⋮ & ⋮ & ⋮ & ⋮ & ⋮ & ⋮ & ⋮ & ⋮ & ⋮ & ⋮ & ⋮ & ⋮\\\\\n",
       "\t 22178488 & 2019-03-31 22:51:02 & 2019-03-31 22:54:00 & 4602 & 178 & 460 & Clark St \\& Bryn Mawr Ave            & 461 & Broadway \\& Ridge Ave                 & Subscriber & Male   & 1986\\\\\n",
       "\t 22178489 & 2019-03-31 22:54:00 & 2019-03-31 23:02:49 & 4151 & 529 &  47 & State St \\& Kinzie St                &  26 & McClurg Ct \\& Illinois St             & Subscriber & Male   & 1990\\\\\n",
       "\t 22178490 & 2019-03-31 22:55:28 & 2019-03-31 23:02:10 & 3833 & 402 & 108 & Halsted St \\& Polk St                &  19 & Loomis St \\& Taylor St (*)            & Subscriber & Male   & 1992\\\\\n",
       "\t 22178491 & 2019-03-31 22:58:00 & 2019-03-31 23:06:12 & 1374 & 492 & 108 & Halsted St \\& Polk St                &  41 & Federal St \\& Polk St                 & Subscriber & Male   & 1992\\\\\n",
       "\t 22178492 & 2019-03-31 22:59:35 & 2019-03-31 23:01:38 & 3723 & 123 &  66 & Clinton St \\& Lake St                &  77 & Clinton St \\& Madison St              & Subscriber & Female & 1985\\\\\n",
       "\t 22178493 & 2019-03-31 23:00:17 & 2019-03-31 23:10:52 & 2331 & 635 &  51 & Clark St \\& Randolph St              & 364 & Larrabee St \\& Oak St                 & Subscriber & Male   & 1972\\\\\n",
       "\t 22178494 & 2019-03-31 23:00:28 & 2019-03-31 23:09:20 & 1312 & 532 &  98 & LaSalle St \\& Washington St          &  22 & May St \\& Taylor St                   & Customer   & Male   & 1993\\\\\n",
       "\t 22178495 & 2019-03-31 23:00:43 & 2019-03-31 23:13:04 & 6205 & 741 & 301 & Clark St \\& Schiller St              & 115 & Sheffield Ave \\& Wellington Ave       & Subscriber & Male   & 1988\\\\\n",
       "\t 22178502 & 2019-03-31 23:03:01 & 2019-03-31 23:15:20 & 3360 & 739 & 295 & Broadway \\& Argyle St                & 451 & Sheridan Rd \\& Loyola Ave             & Subscriber & Male   & 1992\\\\\n",
       "\t 22178503 & 2019-03-31 23:09:40 & 2019-03-31 23:19:30 & 6416 & 590 & 114 & Sheffield Ave \\& Waveland Ave        & 330 & Lincoln Ave \\& Addison St             & Subscriber & Female & 1985\\\\\n",
       "\t 22178504 & 2019-03-31 23:10:19 & 2019-03-31 23:21:33 & 3767 & 674 &  50 & Clark St \\& Ida B Wells Dr           &  50 & Clark St \\& Ida B Wells Dr            & Subscriber & Male   & 1957\\\\\n",
       "\t 22178505 & 2019-03-31 23:11:15 & 2019-03-31 23:20:27 & 1646 & 552 & 111 & Sedgwick St \\& Huron St              & 301 & Clark St \\& Schiller St               & Subscriber & Male   & 1994\\\\\n",
       "\t 22178506 & 2019-03-31 23:15:53 & 2019-03-31 23:20:27 &  632 & 274 &  16 & Paulina Ave \\& North Ave             & 158 & Milwaukee Ave \\& Wabansia Ave         & Subscriber & Male   & 1991\\\\\n",
       "\t 22178507 & 2019-03-31 23:16:57 & 2019-03-31 23:22:42 & 1537 & 345 & 173 & Mies van der Rohe Way \\& Chicago Ave & 172 & Rush St \\& Cedar St                   & Subscriber & Male   & 1980\\\\\n",
       "\t 22178508 & 2019-03-31 23:18:42 & 2019-03-31 23:30:40 & 1952 & 718 & 301 & Clark St \\& Schiller St              & 210 & Ashland Ave \\& Division St            & Subscriber & Male   & 1988\\\\\n",
       "\t 22178509 & 2019-03-31 23:20:36 & 2019-03-31 23:28:12 & 5331 & 456 & 115 & Sheffield Ave \\& Wellington Ave      & 313 & Lakeview Ave \\& Fullerton Pkwy        & Subscriber & Male   & 1987\\\\\n",
       "\t 22178510 & 2019-03-31 23:21:07 & 2019-03-31 23:25:12 &   67 & 245 & 325 & Clark St \\& Winnemac Ave             & 464 & Damen Ave \\& Foster Ave               & Subscriber & Male   & 1983\\\\\n",
       "\t 22178515 & 2019-03-31 23:26:00 & 2019-03-31 23:37:24 & 2965 & 684 & 403 & Wentworth Ave \\& 33rd St             & 263 & Rhodes Ave \\& 32nd St                 & Subscriber & Male   & 1984\\\\\n",
       "\t 22178516 & 2019-03-31 23:31:30 & 2019-03-31 23:35:29 & 5747 & 239 & 309 & Leavitt St \\& Armitage Ave           & 219 & Damen Ave \\& Cortland St              & Subscriber & Male   & 1970\\\\\n",
       "\t 22178517 & 2019-03-31 23:32:54 & 2019-03-31 23:37:50 & 2846 & 296 & 181 & LaSalle St \\& Illinois St            &  24 & Fairbanks Ct \\& Grand Ave             & Customer   & NA     &   NA\\\\\n",
       "\t 22178518 & 2019-03-31 23:33:02 & 2019-03-31 23:43:15 & 2772 & 613 & 210 & Ashland Ave \\& Division St           & 210 & Ashland Ave \\& Division St            & Subscriber & Male   & 1972\\\\\n",
       "\t 22178519 & 2019-03-31 23:33:14 & 2019-03-31 23:37:40 & 4304 & 266 & 181 & LaSalle St \\& Illinois St            &  24 & Fairbanks Ct \\& Grand Ave             & Customer   & NA     &   NA\\\\\n",
       "\t 22178520 & 2019-03-31 23:34:08 & 2019-03-31 23:38:07 &  667 & 239 & 199 & Wabash Ave \\& Grand Ave              &  26 & McClurg Ct \\& Illinois St             & Subscriber & Female & 1984\\\\\n",
       "\t 22178521 & 2019-03-31 23:39:48 & 2019-03-31 23:41:41 & 4814 & 113 & 198 & Green St \\& Madison St               & 233 & Sangamon St \\& Washington Blvd (*)    & Subscriber & Male   & 1971\\\\\n",
       "\t 22178522 & 2019-03-31 23:47:05 & 2019-03-31 23:51:35 & 3873 & 270 &  69 & Damen Ave \\& Pierce Ave              & 183 & Damen Ave \\& Thomas St (Augusta Blvd) & Subscriber & Male   & 1985\\\\\n",
       "\t 22178524 & 2019-03-31 23:51:32 & 2019-04-01 0:04:09  & 1501 & 757 &  38 & Clark St \\& Lake St                  &  29 & Noble St \\& Milwaukee Ave             & Subscriber & Male   & 1993\\\\\n",
       "\t 22178525 & 2019-03-31 23:52:37 & 2019-03-31 23:58:09 & 3270 & 332 & 129 & Blue Island Ave \\& 18th St           & 202 & Halsted St \\& 18th St                 & Subscriber & Male   & 1992\\\\\n",
       "\t 22178526 & 2019-03-31 23:52:38 & 2019-04-01 0:06:44  & 3584 & 846 & 283 & LaSalle St \\& Jackson Blvd           & 273 & Michigan Ave \\& 18th St               & Subscriber & Male   & 1984\\\\\n",
       "\t 22178527 & 2019-03-31 23:53:08 & 2019-03-31 23:56:06 & 4384 & 178 & 321 & Wabash Ave \\& 9th St                 &  39 & Wabash Ave \\& Adams St                & Subscriber & Male   & 1969\\\\\n",
       "\t 22178528 & 2019-03-31 23:53:48 & 2019-04-01 0:01:16  & 5589 & 448 & 248 & Woodlawn Ave \\& 55th St              & 247 & Shore Dr \\& 55th St                   & Subscriber & Male   & 1998\\\\\n",
       "\\end{tabular}\n"
      ],
      "text/markdown": [
       "\n",
       "A spec_tbl_df: 365069 × 12\n",
       "\n",
       "| ride_id &lt;dbl&gt; | started_at &lt;chr&gt; | ended_at &lt;chr&gt; | rideable_type &lt;dbl&gt; | tripduration &lt;dbl&gt; | start_station_id &lt;dbl&gt; | start_station_name &lt;chr&gt; | end_station_id &lt;dbl&gt; | end_station_name &lt;chr&gt; | member_casual &lt;chr&gt; | gender &lt;chr&gt; | birthyear &lt;dbl&gt; |\n",
       "|---|---|---|---|---|---|---|---|---|---|---|---|\n",
       "| 21742443 | 2019-01-01 0:04:37 | 2019-01-01 0:11:07 | 2167 |  390 | 199 | Wabash Ave &amp; Grand Ave              |  84 | Milwaukee Ave &amp; Grand Ave      | Subscriber | Male   | 1989 |\n",
       "| 21742444 | 2019-01-01 0:08:13 | 2019-01-01 0:15:34 | 4386 |  441 |  44 | State St &amp; Randolph St              | 624 | Dearborn St &amp; Van Buren St (*) | Subscriber | Female | 1990 |\n",
       "| 21742445 | 2019-01-01 0:13:23 | 2019-01-01 0:27:12 | 1524 |  829 |  15 | Racine Ave &amp; 18th St                | 644 | Western Ave &amp; Fillmore St (*)  | Subscriber | Female | 1994 |\n",
       "| 21742446 | 2019-01-01 0:13:45 | 2019-01-01 0:43:28 |  252 | 1783 | 123 | California Ave &amp; Milwaukee Ave      | 176 | Clark St &amp; Elm St              | Subscriber | Male   | 1993 |\n",
       "| 21742447 | 2019-01-01 0:14:52 | 2019-01-01 0:20:56 | 1170 |  364 | 173 | Mies van der Rohe Way &amp; Chicago Ave |  35 | Streeter Dr &amp; Grand Ave        | Subscriber | Male   | 1994 |\n",
       "| 21742448 | 2019-01-01 0:15:33 | 2019-01-01 0:19:09 | 2437 |  216 |  98 | LaSalle St &amp; Washington St          |  49 | Dearborn St &amp; Monroe St        | Subscriber | Female | 1983 |\n",
       "| 21742449 | 2019-01-01 0:16:06 | 2019-01-01 0:19:03 | 2708 |  177 |  98 | LaSalle St &amp; Washington St          |  49 | Dearborn St &amp; Monroe St        | Subscriber | Male   | 1984 |\n",
       "| 21742450 | 2019-01-01 0:18:41 | 2019-01-01 0:20:21 | 2796 |  100 | 211 | St. Clair St &amp; Erie St              | 142 | McClurg Ct &amp; Erie St           | Subscriber | Male   | 1990 |\n",
       "| 21742451 | 2019-01-01 0:18:43 | 2019-01-01 0:47:30 | 6205 | 1727 | 150 | Fort Dearborn Dr &amp; 31st St          | 148 | State St &amp; 33rd St             | Subscriber | Male   | 1995 |\n",
       "| 21742452 | 2019-01-01 0:19:18 | 2019-01-01 0:24:54 | 3939 |  336 | 268 | Lake Shore Dr &amp; North Blvd          | 141 | Clark St &amp; Lincoln Ave         | Subscriber | Male   | 1996 |\n",
       "| 21742453 | 2019-01-01 0:20:34 | 2019-01-01 0:35:20 | 6243 |  886 | 299 | Halsted St &amp; Roscoe St              | 295 | Broadway &amp; Argyle St           | Subscriber | Male   | 1994 |\n",
       "| 21742454 | 2019-01-01 0:21:52 | 2019-01-01 0:32:45 | 6300 |  653 | 204 | Prairie Ave &amp; Garfield Blvd         | 420 | Ellis Ave &amp; 55th St            | Subscriber | Female | 1994 |\n",
       "| 21742455 | 2019-01-01 0:23:04 | 2019-01-01 0:33:05 | 3029 |  601 |  90 | Millennium Park                     | 255 | Indiana Ave &amp; Roosevelt Rd     | Subscriber | Male   | 1986 |\n",
       "| 21742456 | 2019-01-01 0:23:43 | 2019-01-01 0:33:05 |   84 |  562 |  90 | Millennium Park                     | 255 | Indiana Ave &amp; Roosevelt Rd     | Customer   | Female | 1990 |\n",
       "| 21742457 | 2019-01-01 0:23:54 | 2019-01-01 0:39:00 | 5019 |  906 | 289 | Wells St &amp; Concord Ln               | 324 | Stockton Dr &amp; Wrightwood Ave   | Subscriber | Female | 1989 |\n",
       "| 21742458 | 2019-01-01 0:24:08 | 2019-01-01 0:39:00 | 5526 |  892 | 289 | Wells St &amp; Concord Ln               | 324 | Stockton Dr &amp; Wrightwood Ave   | Subscriber | Female | 1989 |\n",
       "| 21742459 | 2019-01-01 0:24:13 | 2019-01-01 0:31:00 | 3373 |  407 | 152 | Lincoln Ave &amp; Diversey Pkwy         | 166 | Ashland Ave &amp; Wrightwood Ave   | Subscriber | Male   | 1967 |\n",
       "| 21742460 | 2019-01-01 0:24:27 | 2019-01-01 0:47:03 | 5777 | 1356 | 268 | Lake Shore Dr &amp; North Blvd          | 319 | Greenview Ave &amp; Diversey Pkwy  | Customer   | Female | 1990 |\n",
       "| 21742461 | 2019-01-01 0:25:28 | 2019-01-01 0:27:10 | 3940 |  102 |  35 | Streeter Dr &amp; Grand Ave             |  35 | Streeter Dr &amp; Grand Ave        | Subscriber | Male   | 1985 |\n",
       "| 21742463 | 2019-01-01 0:29:19 | 2019-01-01 1:08:12 | 3914 | 2333 |  35 | Streeter Dr &amp; Grand Ave             |  39 | Wabash Ave &amp; Adams St          | Customer   | NA     |   NA |\n",
       "| 21742464 | 2019-01-01 0:29:21 | 2019-01-01 0:45:21 |  140 |  960 |  47 | State St &amp; Kinzie St                | 111 | Sedgwick St &amp; Huron St         | Subscriber | Male   | 1957 |\n",
       "| 21742465 | 2019-01-01 0:29:28 | 2019-01-01 1:07:49 | 3355 | 2301 |  35 | Streeter Dr &amp; Grand Ave             |  39 | Wabash Ave &amp; Adams St          | Customer   | NA     |   NA |\n",
       "| 21742466 | 2019-01-01 0:29:47 | 2019-01-01 0:49:15 | 5026 | 1168 |  85 | Michigan Ave &amp; Oak St               | 329 | Lake Shore Dr &amp; Diversey Pkwy  | Subscriber | Male   | 1959 |\n",
       "| 21742467 | 2019-01-01 0:30:48 | 2019-01-01 0:38:42 | 1998 |  474 | 289 | Wells St &amp; Concord Ln               | 313 | Lakeview Ave &amp; Fullerton Pkwy  | Subscriber | Male   | 1994 |\n",
       "| 21742468 | 2019-01-01 0:33:09 | 2019-01-01 0:50:25 | 2630 | 1036 |  13 | Wilton Ave &amp; Diversey Pkwy          |  61 | Wood St &amp; Milwaukee Ave        | Subscriber | Male   | 1991 |\n",
       "| 21742469 | 2019-01-01 0:34:35 | 2019-01-01 0:38:25 | 3722 |  230 | 520 | Greenview Ave &amp; Jarvis Ave          | 523 | Eastlake Ter &amp; Rogers Ave      | Subscriber | Male   | 1961 |\n",
       "| 21742471 | 2019-01-01 0:38:11 | 2019-01-01 0:50:38 | 1166 |  747 | 256 | Broadway &amp; Sheridan Rd              | 297 | Paulina St &amp; Montrose Ave      | Subscriber | Male   | 1968 |\n",
       "| 21742472 | 2019-01-01 0:38:47 | 2019-01-01 0:50:38 | 1704 |  711 | 256 | Broadway &amp; Sheridan Rd              | 297 | Paulina St &amp; Montrose Ave      | Subscriber | Male   | 1964 |\n",
       "| 21742473 | 2019-01-01 0:40:16 | 2019-01-01 0:49:29 | 1476 |  553 | 254 | Pine Grove Ave &amp; Irving Park Rd     | 465 | Marine Dr &amp; Ainslie St         | Subscriber | Male   | 1990 |\n",
       "| 21742474 | 2019-01-01 0:41:46 | 2019-01-01 0:50:27 | 4614 |  521 |  66 | Clinton St &amp; Lake St                |  52 | Michigan Ave &amp; Lake St         | Subscriber | Male   | 1994 |\n",
       "| ⋮ | ⋮ | ⋮ | ⋮ | ⋮ | ⋮ | ⋮ | ⋮ | ⋮ | ⋮ | ⋮ | ⋮ |\n",
       "| 22178488 | 2019-03-31 22:51:02 | 2019-03-31 22:54:00 | 4602 | 178 | 460 | Clark St &amp; Bryn Mawr Ave            | 461 | Broadway &amp; Ridge Ave                 | Subscriber | Male   | 1986 |\n",
       "| 22178489 | 2019-03-31 22:54:00 | 2019-03-31 23:02:49 | 4151 | 529 |  47 | State St &amp; Kinzie St                |  26 | McClurg Ct &amp; Illinois St             | Subscriber | Male   | 1990 |\n",
       "| 22178490 | 2019-03-31 22:55:28 | 2019-03-31 23:02:10 | 3833 | 402 | 108 | Halsted St &amp; Polk St                |  19 | Loomis St &amp; Taylor St (*)            | Subscriber | Male   | 1992 |\n",
       "| 22178491 | 2019-03-31 22:58:00 | 2019-03-31 23:06:12 | 1374 | 492 | 108 | Halsted St &amp; Polk St                |  41 | Federal St &amp; Polk St                 | Subscriber | Male   | 1992 |\n",
       "| 22178492 | 2019-03-31 22:59:35 | 2019-03-31 23:01:38 | 3723 | 123 |  66 | Clinton St &amp; Lake St                |  77 | Clinton St &amp; Madison St              | Subscriber | Female | 1985 |\n",
       "| 22178493 | 2019-03-31 23:00:17 | 2019-03-31 23:10:52 | 2331 | 635 |  51 | Clark St &amp; Randolph St              | 364 | Larrabee St &amp; Oak St                 | Subscriber | Male   | 1972 |\n",
       "| 22178494 | 2019-03-31 23:00:28 | 2019-03-31 23:09:20 | 1312 | 532 |  98 | LaSalle St &amp; Washington St          |  22 | May St &amp; Taylor St                   | Customer   | Male   | 1993 |\n",
       "| 22178495 | 2019-03-31 23:00:43 | 2019-03-31 23:13:04 | 6205 | 741 | 301 | Clark St &amp; Schiller St              | 115 | Sheffield Ave &amp; Wellington Ave       | Subscriber | Male   | 1988 |\n",
       "| 22178502 | 2019-03-31 23:03:01 | 2019-03-31 23:15:20 | 3360 | 739 | 295 | Broadway &amp; Argyle St                | 451 | Sheridan Rd &amp; Loyola Ave             | Subscriber | Male   | 1992 |\n",
       "| 22178503 | 2019-03-31 23:09:40 | 2019-03-31 23:19:30 | 6416 | 590 | 114 | Sheffield Ave &amp; Waveland Ave        | 330 | Lincoln Ave &amp; Addison St             | Subscriber | Female | 1985 |\n",
       "| 22178504 | 2019-03-31 23:10:19 | 2019-03-31 23:21:33 | 3767 | 674 |  50 | Clark St &amp; Ida B Wells Dr           |  50 | Clark St &amp; Ida B Wells Dr            | Subscriber | Male   | 1957 |\n",
       "| 22178505 | 2019-03-31 23:11:15 | 2019-03-31 23:20:27 | 1646 | 552 | 111 | Sedgwick St &amp; Huron St              | 301 | Clark St &amp; Schiller St               | Subscriber | Male   | 1994 |\n",
       "| 22178506 | 2019-03-31 23:15:53 | 2019-03-31 23:20:27 |  632 | 274 |  16 | Paulina Ave &amp; North Ave             | 158 | Milwaukee Ave &amp; Wabansia Ave         | Subscriber | Male   | 1991 |\n",
       "| 22178507 | 2019-03-31 23:16:57 | 2019-03-31 23:22:42 | 1537 | 345 | 173 | Mies van der Rohe Way &amp; Chicago Ave | 172 | Rush St &amp; Cedar St                   | Subscriber | Male   | 1980 |\n",
       "| 22178508 | 2019-03-31 23:18:42 | 2019-03-31 23:30:40 | 1952 | 718 | 301 | Clark St &amp; Schiller St              | 210 | Ashland Ave &amp; Division St            | Subscriber | Male   | 1988 |\n",
       "| 22178509 | 2019-03-31 23:20:36 | 2019-03-31 23:28:12 | 5331 | 456 | 115 | Sheffield Ave &amp; Wellington Ave      | 313 | Lakeview Ave &amp; Fullerton Pkwy        | Subscriber | Male   | 1987 |\n",
       "| 22178510 | 2019-03-31 23:21:07 | 2019-03-31 23:25:12 |   67 | 245 | 325 | Clark St &amp; Winnemac Ave             | 464 | Damen Ave &amp; Foster Ave               | Subscriber | Male   | 1983 |\n",
       "| 22178515 | 2019-03-31 23:26:00 | 2019-03-31 23:37:24 | 2965 | 684 | 403 | Wentworth Ave &amp; 33rd St             | 263 | Rhodes Ave &amp; 32nd St                 | Subscriber | Male   | 1984 |\n",
       "| 22178516 | 2019-03-31 23:31:30 | 2019-03-31 23:35:29 | 5747 | 239 | 309 | Leavitt St &amp; Armitage Ave           | 219 | Damen Ave &amp; Cortland St              | Subscriber | Male   | 1970 |\n",
       "| 22178517 | 2019-03-31 23:32:54 | 2019-03-31 23:37:50 | 2846 | 296 | 181 | LaSalle St &amp; Illinois St            |  24 | Fairbanks Ct &amp; Grand Ave             | Customer   | NA     |   NA |\n",
       "| 22178518 | 2019-03-31 23:33:02 | 2019-03-31 23:43:15 | 2772 | 613 | 210 | Ashland Ave &amp; Division St           | 210 | Ashland Ave &amp; Division St            | Subscriber | Male   | 1972 |\n",
       "| 22178519 | 2019-03-31 23:33:14 | 2019-03-31 23:37:40 | 4304 | 266 | 181 | LaSalle St &amp; Illinois St            |  24 | Fairbanks Ct &amp; Grand Ave             | Customer   | NA     |   NA |\n",
       "| 22178520 | 2019-03-31 23:34:08 | 2019-03-31 23:38:07 |  667 | 239 | 199 | Wabash Ave &amp; Grand Ave              |  26 | McClurg Ct &amp; Illinois St             | Subscriber | Female | 1984 |\n",
       "| 22178521 | 2019-03-31 23:39:48 | 2019-03-31 23:41:41 | 4814 | 113 | 198 | Green St &amp; Madison St               | 233 | Sangamon St &amp; Washington Blvd (*)    | Subscriber | Male   | 1971 |\n",
       "| 22178522 | 2019-03-31 23:47:05 | 2019-03-31 23:51:35 | 3873 | 270 |  69 | Damen Ave &amp; Pierce Ave              | 183 | Damen Ave &amp; Thomas St (Augusta Blvd) | Subscriber | Male   | 1985 |\n",
       "| 22178524 | 2019-03-31 23:51:32 | 2019-04-01 0:04:09  | 1501 | 757 |  38 | Clark St &amp; Lake St                  |  29 | Noble St &amp; Milwaukee Ave             | Subscriber | Male   | 1993 |\n",
       "| 22178525 | 2019-03-31 23:52:37 | 2019-03-31 23:58:09 | 3270 | 332 | 129 | Blue Island Ave &amp; 18th St           | 202 | Halsted St &amp; 18th St                 | Subscriber | Male   | 1992 |\n",
       "| 22178526 | 2019-03-31 23:52:38 | 2019-04-01 0:06:44  | 3584 | 846 | 283 | LaSalle St &amp; Jackson Blvd           | 273 | Michigan Ave &amp; 18th St               | Subscriber | Male   | 1984 |\n",
       "| 22178527 | 2019-03-31 23:53:08 | 2019-03-31 23:56:06 | 4384 | 178 | 321 | Wabash Ave &amp; 9th St                 |  39 | Wabash Ave &amp; Adams St                | Subscriber | Male   | 1969 |\n",
       "| 22178528 | 2019-03-31 23:53:48 | 2019-04-01 0:01:16  | 5589 | 448 | 248 | Woodlawn Ave &amp; 55th St              | 247 | Shore Dr &amp; 55th St                   | Subscriber | Male   | 1998 |\n",
       "\n"
      ],
      "text/plain": [
       "       ride_id  started_at          ended_at            rideable_type\n",
       "1      21742443 2019-01-01 0:04:37  2019-01-01 0:11:07  2167         \n",
       "2      21742444 2019-01-01 0:08:13  2019-01-01 0:15:34  4386         \n",
       "3      21742445 2019-01-01 0:13:23  2019-01-01 0:27:12  1524         \n",
       "4      21742446 2019-01-01 0:13:45  2019-01-01 0:43:28   252         \n",
       "5      21742447 2019-01-01 0:14:52  2019-01-01 0:20:56  1170         \n",
       "6      21742448 2019-01-01 0:15:33  2019-01-01 0:19:09  2437         \n",
       "7      21742449 2019-01-01 0:16:06  2019-01-01 0:19:03  2708         \n",
       "8      21742450 2019-01-01 0:18:41  2019-01-01 0:20:21  2796         \n",
       "9      21742451 2019-01-01 0:18:43  2019-01-01 0:47:30  6205         \n",
       "10     21742452 2019-01-01 0:19:18  2019-01-01 0:24:54  3939         \n",
       "11     21742453 2019-01-01 0:20:34  2019-01-01 0:35:20  6243         \n",
       "12     21742454 2019-01-01 0:21:52  2019-01-01 0:32:45  6300         \n",
       "13     21742455 2019-01-01 0:23:04  2019-01-01 0:33:05  3029         \n",
       "14     21742456 2019-01-01 0:23:43  2019-01-01 0:33:05    84         \n",
       "15     21742457 2019-01-01 0:23:54  2019-01-01 0:39:00  5019         \n",
       "16     21742458 2019-01-01 0:24:08  2019-01-01 0:39:00  5526         \n",
       "17     21742459 2019-01-01 0:24:13  2019-01-01 0:31:00  3373         \n",
       "18     21742460 2019-01-01 0:24:27  2019-01-01 0:47:03  5777         \n",
       "19     21742461 2019-01-01 0:25:28  2019-01-01 0:27:10  3940         \n",
       "20     21742463 2019-01-01 0:29:19  2019-01-01 1:08:12  3914         \n",
       "21     21742464 2019-01-01 0:29:21  2019-01-01 0:45:21   140         \n",
       "22     21742465 2019-01-01 0:29:28  2019-01-01 1:07:49  3355         \n",
       "23     21742466 2019-01-01 0:29:47  2019-01-01 0:49:15  5026         \n",
       "24     21742467 2019-01-01 0:30:48  2019-01-01 0:38:42  1998         \n",
       "25     21742468 2019-01-01 0:33:09  2019-01-01 0:50:25  2630         \n",
       "26     21742469 2019-01-01 0:34:35  2019-01-01 0:38:25  3722         \n",
       "27     21742471 2019-01-01 0:38:11  2019-01-01 0:50:38  1166         \n",
       "28     21742472 2019-01-01 0:38:47  2019-01-01 0:50:38  1704         \n",
       "29     21742473 2019-01-01 0:40:16  2019-01-01 0:49:29  1476         \n",
       "30     21742474 2019-01-01 0:41:46  2019-01-01 0:50:27  4614         \n",
       "⋮      ⋮        ⋮                   ⋮                   ⋮            \n",
       "365040 22178488 2019-03-31 22:51:02 2019-03-31 22:54:00 4602         \n",
       "365041 22178489 2019-03-31 22:54:00 2019-03-31 23:02:49 4151         \n",
       "365042 22178490 2019-03-31 22:55:28 2019-03-31 23:02:10 3833         \n",
       "365043 22178491 2019-03-31 22:58:00 2019-03-31 23:06:12 1374         \n",
       "365044 22178492 2019-03-31 22:59:35 2019-03-31 23:01:38 3723         \n",
       "365045 22178493 2019-03-31 23:00:17 2019-03-31 23:10:52 2331         \n",
       "365046 22178494 2019-03-31 23:00:28 2019-03-31 23:09:20 1312         \n",
       "365047 22178495 2019-03-31 23:00:43 2019-03-31 23:13:04 6205         \n",
       "365048 22178502 2019-03-31 23:03:01 2019-03-31 23:15:20 3360         \n",
       "365049 22178503 2019-03-31 23:09:40 2019-03-31 23:19:30 6416         \n",
       "365050 22178504 2019-03-31 23:10:19 2019-03-31 23:21:33 3767         \n",
       "365051 22178505 2019-03-31 23:11:15 2019-03-31 23:20:27 1646         \n",
       "365052 22178506 2019-03-31 23:15:53 2019-03-31 23:20:27  632         \n",
       "365053 22178507 2019-03-31 23:16:57 2019-03-31 23:22:42 1537         \n",
       "365054 22178508 2019-03-31 23:18:42 2019-03-31 23:30:40 1952         \n",
       "365055 22178509 2019-03-31 23:20:36 2019-03-31 23:28:12 5331         \n",
       "365056 22178510 2019-03-31 23:21:07 2019-03-31 23:25:12   67         \n",
       "365057 22178515 2019-03-31 23:26:00 2019-03-31 23:37:24 2965         \n",
       "365058 22178516 2019-03-31 23:31:30 2019-03-31 23:35:29 5747         \n",
       "365059 22178517 2019-03-31 23:32:54 2019-03-31 23:37:50 2846         \n",
       "365060 22178518 2019-03-31 23:33:02 2019-03-31 23:43:15 2772         \n",
       "365061 22178519 2019-03-31 23:33:14 2019-03-31 23:37:40 4304         \n",
       "365062 22178520 2019-03-31 23:34:08 2019-03-31 23:38:07  667         \n",
       "365063 22178521 2019-03-31 23:39:48 2019-03-31 23:41:41 4814         \n",
       "365064 22178522 2019-03-31 23:47:05 2019-03-31 23:51:35 3873         \n",
       "365065 22178524 2019-03-31 23:51:32 2019-04-01 0:04:09  1501         \n",
       "365066 22178525 2019-03-31 23:52:37 2019-03-31 23:58:09 3270         \n",
       "365067 22178526 2019-03-31 23:52:38 2019-04-01 0:06:44  3584         \n",
       "365068 22178527 2019-03-31 23:53:08 2019-03-31 23:56:06 4384         \n",
       "365069 22178528 2019-03-31 23:53:48 2019-04-01 0:01:16  5589         \n",
       "       tripduration start_station_id start_station_name                 \n",
       "1       390         199              Wabash Ave & Grand Ave             \n",
       "2       441          44              State St & Randolph St             \n",
       "3       829          15              Racine Ave & 18th St               \n",
       "4      1783         123              California Ave & Milwaukee Ave     \n",
       "5       364         173              Mies van der Rohe Way & Chicago Ave\n",
       "6       216          98              LaSalle St & Washington St         \n",
       "7       177          98              LaSalle St & Washington St         \n",
       "8       100         211              St. Clair St & Erie St             \n",
       "9      1727         150              Fort Dearborn Dr & 31st St         \n",
       "10      336         268              Lake Shore Dr & North Blvd         \n",
       "11      886         299              Halsted St & Roscoe St             \n",
       "12      653         204              Prairie Ave & Garfield Blvd        \n",
       "13      601          90              Millennium Park                    \n",
       "14      562          90              Millennium Park                    \n",
       "15      906         289              Wells St & Concord Ln              \n",
       "16      892         289              Wells St & Concord Ln              \n",
       "17      407         152              Lincoln Ave & Diversey Pkwy        \n",
       "18     1356         268              Lake Shore Dr & North Blvd         \n",
       "19      102          35              Streeter Dr & Grand Ave            \n",
       "20     2333          35              Streeter Dr & Grand Ave            \n",
       "21      960          47              State St & Kinzie St               \n",
       "22     2301          35              Streeter Dr & Grand Ave            \n",
       "23     1168          85              Michigan Ave & Oak St              \n",
       "24      474         289              Wells St & Concord Ln              \n",
       "25     1036          13              Wilton Ave & Diversey Pkwy         \n",
       "26      230         520              Greenview Ave & Jarvis Ave         \n",
       "27      747         256              Broadway & Sheridan Rd             \n",
       "28      711         256              Broadway & Sheridan Rd             \n",
       "29      553         254              Pine Grove Ave & Irving Park Rd    \n",
       "30      521          66              Clinton St & Lake St               \n",
       "⋮      ⋮            ⋮                ⋮                                  \n",
       "365040 178          460              Clark St & Bryn Mawr Ave           \n",
       "365041 529           47              State St & Kinzie St               \n",
       "365042 402          108              Halsted St & Polk St               \n",
       "365043 492          108              Halsted St & Polk St               \n",
       "365044 123           66              Clinton St & Lake St               \n",
       "365045 635           51              Clark St & Randolph St             \n",
       "365046 532           98              LaSalle St & Washington St         \n",
       "365047 741          301              Clark St & Schiller St             \n",
       "365048 739          295              Broadway & Argyle St               \n",
       "365049 590          114              Sheffield Ave & Waveland Ave       \n",
       "365050 674           50              Clark St & Ida B Wells Dr          \n",
       "365051 552          111              Sedgwick St & Huron St             \n",
       "365052 274           16              Paulina Ave & North Ave            \n",
       "365053 345          173              Mies van der Rohe Way & Chicago Ave\n",
       "365054 718          301              Clark St & Schiller St             \n",
       "365055 456          115              Sheffield Ave & Wellington Ave     \n",
       "365056 245          325              Clark St & Winnemac Ave            \n",
       "365057 684          403              Wentworth Ave & 33rd St            \n",
       "365058 239          309              Leavitt St & Armitage Ave          \n",
       "365059 296          181              LaSalle St & Illinois St           \n",
       "365060 613          210              Ashland Ave & Division St          \n",
       "365061 266          181              LaSalle St & Illinois St           \n",
       "365062 239          199              Wabash Ave & Grand Ave             \n",
       "365063 113          198              Green St & Madison St              \n",
       "365064 270           69              Damen Ave & Pierce Ave             \n",
       "365065 757           38              Clark St & Lake St                 \n",
       "365066 332          129              Blue Island Ave & 18th St          \n",
       "365067 846          283              LaSalle St & Jackson Blvd          \n",
       "365068 178          321              Wabash Ave & 9th St                \n",
       "365069 448          248              Woodlawn Ave & 55th St             \n",
       "       end_station_id end_station_name                     member_casual gender\n",
       "1       84            Milwaukee Ave & Grand Ave            Subscriber    Male  \n",
       "2      624            Dearborn St & Van Buren St (*)       Subscriber    Female\n",
       "3      644            Western Ave & Fillmore St (*)        Subscriber    Female\n",
       "4      176            Clark St & Elm St                    Subscriber    Male  \n",
       "5       35            Streeter Dr & Grand Ave              Subscriber    Male  \n",
       "6       49            Dearborn St & Monroe St              Subscriber    Female\n",
       "7       49            Dearborn St & Monroe St              Subscriber    Male  \n",
       "8      142            McClurg Ct & Erie St                 Subscriber    Male  \n",
       "9      148            State St & 33rd St                   Subscriber    Male  \n",
       "10     141            Clark St & Lincoln Ave               Subscriber    Male  \n",
       "11     295            Broadway & Argyle St                 Subscriber    Male  \n",
       "12     420            Ellis Ave & 55th St                  Subscriber    Female\n",
       "13     255            Indiana Ave & Roosevelt Rd           Subscriber    Male  \n",
       "14     255            Indiana Ave & Roosevelt Rd           Customer      Female\n",
       "15     324            Stockton Dr & Wrightwood Ave         Subscriber    Female\n",
       "16     324            Stockton Dr & Wrightwood Ave         Subscriber    Female\n",
       "17     166            Ashland Ave & Wrightwood Ave         Subscriber    Male  \n",
       "18     319            Greenview Ave & Diversey Pkwy        Customer      Female\n",
       "19      35            Streeter Dr & Grand Ave              Subscriber    Male  \n",
       "20      39            Wabash Ave & Adams St                Customer      NA    \n",
       "21     111            Sedgwick St & Huron St               Subscriber    Male  \n",
       "22      39            Wabash Ave & Adams St                Customer      NA    \n",
       "23     329            Lake Shore Dr & Diversey Pkwy        Subscriber    Male  \n",
       "24     313            Lakeview Ave & Fullerton Pkwy        Subscriber    Male  \n",
       "25      61            Wood St & Milwaukee Ave              Subscriber    Male  \n",
       "26     523            Eastlake Ter & Rogers Ave            Subscriber    Male  \n",
       "27     297            Paulina St & Montrose Ave            Subscriber    Male  \n",
       "28     297            Paulina St & Montrose Ave            Subscriber    Male  \n",
       "29     465            Marine Dr & Ainslie St               Subscriber    Male  \n",
       "30      52            Michigan Ave & Lake St               Subscriber    Male  \n",
       "⋮      ⋮              ⋮                                    ⋮             ⋮     \n",
       "365040 461            Broadway & Ridge Ave                 Subscriber    Male  \n",
       "365041  26            McClurg Ct & Illinois St             Subscriber    Male  \n",
       "365042  19            Loomis St & Taylor St (*)            Subscriber    Male  \n",
       "365043  41            Federal St & Polk St                 Subscriber    Male  \n",
       "365044  77            Clinton St & Madison St              Subscriber    Female\n",
       "365045 364            Larrabee St & Oak St                 Subscriber    Male  \n",
       "365046  22            May St & Taylor St                   Customer      Male  \n",
       "365047 115            Sheffield Ave & Wellington Ave       Subscriber    Male  \n",
       "365048 451            Sheridan Rd & Loyola Ave             Subscriber    Male  \n",
       "365049 330            Lincoln Ave & Addison St             Subscriber    Female\n",
       "365050  50            Clark St & Ida B Wells Dr            Subscriber    Male  \n",
       "365051 301            Clark St & Schiller St               Subscriber    Male  \n",
       "365052 158            Milwaukee Ave & Wabansia Ave         Subscriber    Male  \n",
       "365053 172            Rush St & Cedar St                   Subscriber    Male  \n",
       "365054 210            Ashland Ave & Division St            Subscriber    Male  \n",
       "365055 313            Lakeview Ave & Fullerton Pkwy        Subscriber    Male  \n",
       "365056 464            Damen Ave & Foster Ave               Subscriber    Male  \n",
       "365057 263            Rhodes Ave & 32nd St                 Subscriber    Male  \n",
       "365058 219            Damen Ave & Cortland St              Subscriber    Male  \n",
       "365059  24            Fairbanks Ct & Grand Ave             Customer      NA    \n",
       "365060 210            Ashland Ave & Division St            Subscriber    Male  \n",
       "365061  24            Fairbanks Ct & Grand Ave             Customer      NA    \n",
       "365062  26            McClurg Ct & Illinois St             Subscriber    Female\n",
       "365063 233            Sangamon St & Washington Blvd (*)    Subscriber    Male  \n",
       "365064 183            Damen Ave & Thomas St (Augusta Blvd) Subscriber    Male  \n",
       "365065  29            Noble St & Milwaukee Ave             Subscriber    Male  \n",
       "365066 202            Halsted St & 18th St                 Subscriber    Male  \n",
       "365067 273            Michigan Ave & 18th St               Subscriber    Male  \n",
       "365068  39            Wabash Ave & Adams St                Subscriber    Male  \n",
       "365069 247            Shore Dr & 55th St                   Subscriber    Male  \n",
       "       birthyear\n",
       "1      1989     \n",
       "2      1990     \n",
       "3      1994     \n",
       "4      1993     \n",
       "5      1994     \n",
       "6      1983     \n",
       "7      1984     \n",
       "8      1990     \n",
       "9      1995     \n",
       "10     1996     \n",
       "11     1994     \n",
       "12     1994     \n",
       "13     1986     \n",
       "14     1990     \n",
       "15     1989     \n",
       "16     1989     \n",
       "17     1967     \n",
       "18     1990     \n",
       "19     1985     \n",
       "20       NA     \n",
       "21     1957     \n",
       "22       NA     \n",
       "23     1959     \n",
       "24     1994     \n",
       "25     1991     \n",
       "26     1961     \n",
       "27     1968     \n",
       "28     1964     \n",
       "29     1990     \n",
       "30     1994     \n",
       "⋮      ⋮        \n",
       "365040 1986     \n",
       "365041 1990     \n",
       "365042 1992     \n",
       "365043 1992     \n",
       "365044 1985     \n",
       "365045 1972     \n",
       "365046 1993     \n",
       "365047 1988     \n",
       "365048 1992     \n",
       "365049 1985     \n",
       "365050 1957     \n",
       "365051 1994     \n",
       "365052 1991     \n",
       "365053 1980     \n",
       "365054 1988     \n",
       "365055 1987     \n",
       "365056 1983     \n",
       "365057 1984     \n",
       "365058 1970     \n",
       "365059   NA     \n",
       "365060 1972     \n",
       "365061   NA     \n",
       "365062 1984     \n",
       "365063 1971     \n",
       "365064 1985     \n",
       "365065 1993     \n",
       "365066 1992     \n",
       "365067 1984     \n",
       "365068 1969     \n",
       "365069 1998     "
      ]
     },
     "metadata": {},
     "output_type": "display_data"
    }
   ],
   "source": [
    "(Q1_Divvy_2019 <- rename(Q1_Divvy_2019,ride_id = trip_id\n",
    "                         ,rideable_type = bikeid\n",
    "                        ,started_at = start_time\n",
    "                        ,ended_at = end_time\n",
    "                        ,start_station_name = from_station_name\n",
    "                        ,start_station_id = from_station_id\n",
    "                        ,end_station_name = to_station_name\n",
    "                        ,end_station_id = to_station_id\n",
    "                        ,member_casual = usertype\n",
    "))"
   ]
  },
  {
   "cell_type": "code",
   "execution_count": 5,
   "id": "8828f15b",
   "metadata": {
    "execution": {
     "iopub.execute_input": "2024-02-20T22:33:24.888132Z",
     "iopub.status.busy": "2024-02-20T22:33:24.885437Z",
     "iopub.status.idle": "2024-02-20T22:33:24.963820Z",
     "shell.execute_reply": "2024-02-20T22:33:24.959609Z"
    },
    "papermill": {
     "duration": 0.100849,
     "end_time": "2024-02-20T22:33:24.967725",
     "exception": true,
     "start_time": "2024-02-20T22:33:24.866876",
     "status": "failed"
    },
    "tags": []
   },
   "outputs": [
    {
     "ename": "ERROR",
     "evalue": "\u001b[1m\u001b[33mError\u001b[39m in `rename()`:\u001b[22m\n\u001b[33m!\u001b[39m Can't rename columns that don't exist.\n\u001b[31m✖\u001b[39m Column `trip_id` doesn't exist.\n",
     "output_type": "error",
     "traceback": [
      "\u001b[1m\u001b[33mError\u001b[39m in `rename()`:\u001b[22m\n\u001b[33m!\u001b[39m Can't rename columns that don't exist.\n\u001b[31m✖\u001b[39m Column `trip_id` doesn't exist.\nTraceback:\n",
      "1. rename(Q1_Divvy_2019, ride_id = trip_id)",
      "2. rename.data.frame(Q1_Divvy_2019, ride_id = trip_id)",
      "3. tidyselect::eval_rename(expr(c(...)), .data)",
      "4. rename_impl(data, names(data), as_quosure(expr, env), strict = strict, \n .     name_spec = name_spec, allow_predicates = allow_predicates, \n .     error_call = error_call)",
      "5. eval_select_impl(x, names, {\n .     {\n .         sel\n .     }\n . }, strict = strict, name_spec = name_spec, type = \"rename\", allow_predicates = allow_predicates, \n .     error_call = error_call)",
      "6. with_subscript_errors(out <- vars_select_eval(vars, expr, strict = strict, \n .     data = x, name_spec = name_spec, uniquely_named = uniquely_named, \n .     allow_rename = allow_rename, allow_empty = allow_empty, allow_predicates = allow_predicates, \n .     type = type, error_call = error_call), type = type)",
      "7. try_fetch(expr, vctrs_error_subscript = function(cnd) {\n .     cnd$subscript_action <- subscript_action(type)\n .     cnd$subscript_elt <- \"column\"\n .     cnd_signal(cnd)\n . })",
      "8. withCallingHandlers(expr, condition = function(cnd) {\n .     {\n .         .__handler_frame__. <- TRUE\n .         .__setup_frame__. <- frame\n .         if (inherits(cnd, \"message\")) {\n .             except <- c(\"warning\", \"error\")\n .         }\n .         else if (inherits(cnd, \"warning\")) {\n .             except <- \"error\"\n .         }\n .         else {\n .             except <- \"\"\n .         }\n .     }\n .     while (!is_null(cnd)) {\n .         if (inherits(cnd, \"vctrs_error_subscript\")) {\n .             out <- handlers[[1L]](cnd)\n .             if (!inherits(out, \"rlang_zap\")) \n .                 throw(out)\n .         }\n .         inherit <- .subset2(.subset2(cnd, \"rlang\"), \"inherit\")\n .         if (is_false(inherit)) {\n .             return()\n .         }\n .         cnd <- .subset2(cnd, \"parent\")\n .     }\n . })",
      "9. vars_select_eval(vars, expr, strict = strict, data = x, name_spec = name_spec, \n .     uniquely_named = uniquely_named, allow_rename = allow_rename, \n .     allow_empty = allow_empty, allow_predicates = allow_predicates, \n .     type = type, error_call = error_call)",
      "10. walk_data_tree(expr, data_mask, context_mask)",
      "11. eval_c(expr, data_mask, context_mask)",
      "12. reduce_sels(node, data_mask, context_mask, init = init)",
      "13. walk_data_tree(new, data_mask, context_mask)",
      "14. as_indices_sel_impl(out, vars = vars, strict = strict, data = data, \n  .     allow_predicates = allow_predicates, call = error_call, arg = as_label(expr))",
      "15. as_indices_impl(x, vars, call = call, arg = arg, strict = strict)",
      "16. chr_as_locations(x, vars, call = call, arg = arg)",
      "17. vctrs::vec_as_location(x, n = length(vars), names = vars, call = call, \n  .     arg = arg)",
      "18. (function () \n  . stop_subscript_oob(i = i, subscript_type = subscript_type, names = names, \n  .     subscript_action = subscript_action, subscript_arg = subscript_arg, \n  .     call = call))()",
      "19. stop_subscript_oob(i = i, subscript_type = subscript_type, names = names, \n  .     subscript_action = subscript_action, subscript_arg = subscript_arg, \n  .     call = call)",
      "20. stop_subscript(class = \"vctrs_error_subscript_oob\", i = i, subscript_type = subscript_type, \n  .     ..., call = call)",
      "21. abort(class = c(class, \"vctrs_error_subscript\"), i = i, ..., \n  .     call = call)",
      "22. signal_abort(cnd, .file)",
      "23. signalCondition(cnd)",
      "24. (function (cnd) \n  . {\n  .     {\n  .         .__handler_frame__. <- TRUE\n  .         .__setup_frame__. <- frame\n  .         if (inherits(cnd, \"message\")) {\n  .             except <- c(\"warning\", \"error\")\n  .         }\n  .         else if (inherits(cnd, \"warning\")) {\n  .             except <- \"error\"\n  .         }\n  .         else {\n  .             except <- \"\"\n  .         }\n  .     }\n  .     while (!is_null(cnd)) {\n  .         if (inherits(cnd, \"vctrs_error_subscript\")) {\n  .             out <- handlers[[1L]](cnd)\n  .             if (!inherits(out, \"rlang_zap\")) \n  .                 throw(out)\n  .         }\n  .         inherit <- .subset2(.subset2(cnd, \"rlang\"), \"inherit\")\n  .         if (is_false(inherit)) {\n  .             return()\n  .         }\n  .         cnd <- .subset2(cnd, \"parent\")\n  .     }\n  . })(structure(list(message = \"\", trace = structure(list(call = list(\n  .     IRkernel::main(), kernel$run(), handle_shell(), executor$execute(msg), \n  .     tryCatch(evaluate(request$content$code, envir = .GlobalEnv, \n  .         output_handler = oh, stop_on_error = 1L), interrupt = function(cond) {\n  .         log_debug(\"Interrupt during execution\")\n  .         interrupted <<- TRUE\n  .     }, error = .self$handle_error), tryCatchList(expr, classes, \n  .         parentenv, handlers), tryCatchOne(tryCatchList(expr, \n  .         names[-nh], parentenv, handlers[-nh]), names[nh], parentenv, \n  .         handlers[[nh]]), doTryCatch(return(expr), name, parentenv, \n  .         handler), tryCatchList(expr, names[-nh], parentenv, handlers[-nh]), \n  .     tryCatchOne(expr, names, parentenv, handlers[[1L]]), doTryCatch(return(expr), \n  .         name, parentenv, handler), evaluate(request$content$code, \n  .         envir = .GlobalEnv, output_handler = oh, stop_on_error = 1L), \n  .     evaluate_call(expr, parsed$src[[i]], envir = envir, enclos = enclos, \n  .         debug = debug, last = i == length(out), use_try = stop_on_error != \n  .             2L, keep_warning = keep_warning, keep_message = keep_message, \n  .         log_echo = log_echo, log_warning = log_warning, output_handler = output_handler, \n  .         include_timing = include_timing), timing_fn(handle(ev <- withCallingHandlers(withVisible(eval_with_user_handlers(expr, \n  .         envir, enclos, user_handlers)), warning = wHandler, error = eHandler, \n  .         message = mHandler))), handle(ev <- withCallingHandlers(withVisible(eval_with_user_handlers(expr, \n  .         envir, enclos, user_handlers)), warning = wHandler, error = eHandler, \n  .         message = mHandler)), try(f, silent = TRUE), tryCatch(expr, \n  .         error = function(e) {\n  .             call <- conditionCall(e)\n  .             if (!is.null(call)) {\n  .                 if (identical(call[[1L]], quote(doTryCatch))) \n  .                   call <- sys.call(-4L)\n  .                 dcall <- deparse(call)[1L]\n  .                 prefix <- paste(\"Error in\", dcall, \": \")\n  .                 LONG <- 75L\n  .                 sm <- strsplit(conditionMessage(e), \"\\n\")[[1L]]\n  .                 w <- 14L + nchar(dcall, type = \"w\") + nchar(sm[1L], \n  .                   type = \"w\")\n  .                 if (is.na(w)) \n  .                   w <- 14L + nchar(dcall, type = \"b\") + nchar(sm[1L], \n  .                     type = \"b\")\n  .                 if (w > LONG) \n  .                   prefix <- paste0(prefix, \"\\n  \")\n  .             }\n  .             else prefix <- \"Error : \"\n  .             msg <- paste0(prefix, conditionMessage(e), \"\\n\")\n  .             .Internal(seterrmessage(msg[1L]))\n  .             if (!silent && isTRUE(getOption(\"show.error.messages\"))) {\n  .                 cat(msg, file = outFile)\n  .                 .Internal(printDeferredWarnings())\n  .             }\n  .             invisible(structure(msg, class = \"try-error\", condition = e))\n  .         }), tryCatchList(expr, classes, parentenv, handlers), \n  .     tryCatchOne(expr, names, parentenv, handlers[[1L]]), doTryCatch(return(expr), \n  .         name, parentenv, handler), withCallingHandlers(withVisible(eval_with_user_handlers(expr, \n  .         envir, enclos, user_handlers)), warning = wHandler, error = eHandler, \n  .         message = mHandler), withVisible(eval_with_user_handlers(expr, \n  .         envir, enclos, user_handlers)), eval_with_user_handlers(expr, \n  .         envir, enclos, user_handlers), eval(expr, envir, enclos), \n  .     eval(expr, envir, enclos), rename(Q1_Divvy_2019, ride_id = trip_id), \n  .     rename.data.frame(Q1_Divvy_2019, ride_id = trip_id), tidyselect::eval_rename(expr(c(...)), \n  .         .data), rename_impl(data, names(data), as_quosure(expr, \n  .         env), strict = strict, name_spec = name_spec, allow_predicates = allow_predicates, \n  .         error_call = error_call), eval_select_impl(x, names, \n  .         {\n  .             {\n  .                 sel\n  .             }\n  .         }, strict = strict, name_spec = name_spec, type = \"rename\", \n  .         allow_predicates = allow_predicates, error_call = error_call), \n  .     with_subscript_errors(out <- vars_select_eval(vars, expr, \n  .         strict = strict, data = x, name_spec = name_spec, uniquely_named = uniquely_named, \n  .         allow_rename = allow_rename, allow_empty = allow_empty, \n  .         allow_predicates = allow_predicates, type = type, error_call = error_call), \n  .         type = type), try_fetch(expr, vctrs_error_subscript = function(cnd) {\n  .         cnd$subscript_action <- subscript_action(type)\n  .         cnd$subscript_elt <- \"column\"\n  .         cnd_signal(cnd)\n  .     }), withCallingHandlers(expr, condition = function(cnd) {\n  .         {\n  .             .__handler_frame__. <- TRUE\n  .             .__setup_frame__. <- frame\n  .             if (inherits(cnd, \"message\")) {\n  .                 except <- c(\"warning\", \"error\")\n  .             }\n  .             else if (inherits(cnd, \"warning\")) {\n  .                 except <- \"error\"\n  .             }\n  .             else {\n  .                 except <- \"\"\n  .             }\n  .         }\n  .         while (!is_null(cnd)) {\n  .             if (inherits(cnd, \"vctrs_error_subscript\")) {\n  .                 out <- handlers[[1L]](cnd)\n  .                 if (!inherits(out, \"rlang_zap\")) \n  .                   throw(out)\n  .             }\n  .             inherit <- .subset2(.subset2(cnd, \"rlang\"), \"inherit\")\n  .             if (is_false(inherit)) {\n  .                 return()\n  .             }\n  .             cnd <- .subset2(cnd, \"parent\")\n  .         }\n  .     }), vars_select_eval(vars, expr, strict = strict, data = x, \n  .         name_spec = name_spec, uniquely_named = uniquely_named, \n  .         allow_rename = allow_rename, allow_empty = allow_empty, \n  .         allow_predicates = allow_predicates, type = type, error_call = error_call), \n  .     walk_data_tree(expr, data_mask, context_mask), eval_c(expr, \n  .         data_mask, context_mask), reduce_sels(node, data_mask, \n  .         context_mask, init = init), walk_data_tree(new, data_mask, \n  .         context_mask), as_indices_sel_impl(out, vars = vars, \n  .         strict = strict, data = data, allow_predicates = allow_predicates, \n  .         call = error_call, arg = as_label(expr)), as_indices_impl(x, \n  .         vars, call = call, arg = arg, strict = strict), chr_as_locations(x, \n  .         vars, call = call, arg = arg), vctrs::vec_as_location(x, \n  .         n = length(vars), names = vars, call = call, arg = arg), \n  .     `<fn>`(), stop_subscript_oob(i = i, subscript_type = subscript_type, \n  .         names = names, subscript_action = subscript_action, subscript_arg = subscript_arg, \n  .         call = call), stop_subscript(class = \"vctrs_error_subscript_oob\", \n  .         i = i, subscript_type = subscript_type, ..., call = call), \n  .     abort(class = c(class, \"vctrs_error_subscript\"), i = i, ..., \n  .         call = call)), parent = c(0L, 1L, 2L, 3L, 4L, 5L, 6L, \n  . 7L, 6L, 9L, 10L, 4L, 12L, 13L, 13L, 15L, 16L, 17L, 18L, 19L, \n  . 13L, 13L, 13L, 23L, 24L, 0L, 0L, 27L, 28L, 29L, 30L, 31L, 32L, \n  . 30L, 34L, 35L, 36L, 37L, 38L, 39L, 40L, 41L, 0L, 43L, 44L, 45L\n  . ), visible = c(TRUE, TRUE, TRUE, TRUE, TRUE, TRUE, TRUE, TRUE, \n  . TRUE, TRUE, TRUE, TRUE, TRUE, TRUE, TRUE, TRUE, TRUE, TRUE, TRUE, \n  . TRUE, TRUE, TRUE, TRUE, TRUE, TRUE, TRUE, TRUE, FALSE, FALSE, \n  . FALSE, FALSE, FALSE, FALSE, FALSE, FALSE, FALSE, FALSE, FALSE, \n  . FALSE, FALSE, FALSE, FALSE, FALSE, FALSE, FALSE, FALSE), namespace = c(\"IRkernel\", \n  . NA, \"IRkernel\", NA, \"base\", \"base\", \"base\", \"base\", \"base\", \"base\", \n  . \"base\", \"evaluate\", \"evaluate\", \"evaluate\", \"evaluate\", \"base\", \n  . \"base\", \"base\", \"base\", \"base\", \"base\", \"base\", \"evaluate\", \"base\", \n  . \"base\", \"dplyr\", \"dplyr\", \"tidyselect\", \"tidyselect\", \"tidyselect\", \n  . \"tidyselect\", \"rlang\", \"base\", \"tidyselect\", \"tidyselect\", \"tidyselect\", \n  . \"tidyselect\", \"tidyselect\", \"tidyselect\", \"tidyselect\", \"tidyselect\", \n  . \"vctrs\", \"vctrs\", \"vctrs\", \"vctrs\", \"rlang\"), scope = c(\"::\", \n  . NA, \"local\", NA, \"::\", \"local\", \"local\", \"local\", \"local\", \"local\", \n  . \"local\", \"::\", \":::\", \"local\", \"local\", \"::\", \"::\", \"local\", \n  . \"local\", \"local\", \"::\", \"::\", \":::\", \"::\", \"::\", \"::\", \":::\", \n  . \"::\", \":::\", \":::\", \":::\", \"::\", \"::\", \":::\", \":::\", \":::\", \":::\", \n  . \":::\", \":::\", \":::\", \":::\", \"::\", \"local\", \":::\", \":::\", \"::\"\n  . ), error_frame = c(FALSE, FALSE, FALSE, FALSE, FALSE, FALSE, \n  . FALSE, FALSE, FALSE, FALSE, FALSE, FALSE, FALSE, FALSE, FALSE, \n  . FALSE, FALSE, FALSE, FALSE, FALSE, FALSE, FALSE, FALSE, FALSE, \n  . FALSE, FALSE, TRUE, FALSE, FALSE, FALSE, FALSE, FALSE, FALSE, \n  . FALSE, FALSE, FALSE, FALSE, FALSE, FALSE, FALSE, FALSE, FALSE, \n  . FALSE, FALSE, FALSE, FALSE)), row.names = c(NA, -46L), version = 2L, class = c(\"rlang_trace\", \n  . \"rlib_trace\", \"tbl\", \"data.frame\")), parent = NULL, i = \"trip_id\", \n  .     subscript_type = \"character\", names = c(\"ride_id\", \"started_at\", \n  .     \"ended_at\", \"rideable_type\", \"tripduration\", \"start_station_id\", \n  .     \"start_station_name\", \"end_station_id\", \"end_station_name\", \n  .     \"member_casual\", \"gender\", \"birthyear\"), subscript_action = NULL, \n  .     subscript_arg = \"trip_id\", rlang = list(inherit = TRUE), \n  .     call = rename(Q1_Divvy_2019, ride_id = trip_id)), class = c(\"vctrs_error_subscript_oob\", \n  . \"vctrs_error_subscript\", \"rlang_error\", \"error\", \"condition\")))",
      "25. handlers[[1L]](cnd)",
      "26. cnd_signal(cnd)",
      "27. signal_abort(cnd)"
     ]
    }
   ],
   "source": [
    "(Q1_Divvy_2019 <- rename(Q1_Divvy_2019,ride_id = trip_id\n",
    "                        ))"
   ]
  },
  {
   "cell_type": "code",
   "execution_count": null,
   "id": "34e1505e",
   "metadata": {
    "execution": {
     "iopub.execute_input": "2024-01-24T12:59:23.26336Z",
     "iopub.status.busy": "2024-01-24T12:59:23.26146Z",
     "iopub.status.idle": "2024-01-24T12:59:23.280576Z"
    },
    "papermill": {
     "duration": null,
     "end_time": null,
     "exception": null,
     "start_time": null,
     "status": "pending"
    },
    "tags": []
   },
   "outputs": [],
   "source": [
    "#from our observation we have to convert ride_id and rideable_type on Q1_Divvy_2019 \n",
    "#to character in order to stack propertly\n",
    "\n",
    "Q1_Divvy_2019 <- mutate(Q1_Divvy_2019, ride_id = as.character(ride_id)\n",
    "                        ,rideable_type = as.character(rideable_type\n",
    "                        ))"
   ]
  },
  {
   "cell_type": "code",
   "execution_count": null,
   "id": "60106107",
   "metadata": {
    "execution": {
     "iopub.execute_input": "2024-01-24T12:59:28.572494Z",
     "iopub.status.busy": "2024-01-24T12:59:28.570775Z",
     "iopub.status.idle": "2024-01-24T12:59:28.59192Z"
    },
    "papermill": {
     "duration": null,
     "end_time": null,
     "exception": null,
     "start_time": null,
     "status": "pending"
    },
    "tags": []
   },
   "outputs": [],
   "source": [
    "colnames(Q1_Divvy_2019)"
   ]
  },
  {
   "cell_type": "code",
   "execution_count": null,
   "id": "b38c68ee",
   "metadata": {
    "execution": {
     "iopub.execute_input": "2024-01-24T13:00:09.841727Z",
     "iopub.status.busy": "2024-01-24T13:00:09.839897Z",
     "iopub.status.idle": "2024-01-24T13:00:11.423749Z"
    },
    "papermill": {
     "duration": null,
     "end_time": null,
     "exception": null,
     "start_time": null,
     "status": "pending"
    },
    "tags": []
   },
   "outputs": [],
   "source": [
    "#join the two dataframe together to get a new big dataframe \n",
    "all_trips <- bind_rows(Q1_Divvy_2019,Q1_Divvy_2020)"
   ]
  },
  {
   "cell_type": "code",
   "execution_count": null,
   "id": "e1be6ebe",
   "metadata": {
    "execution": {
     "iopub.execute_input": "2024-01-24T13:00:43.544915Z",
     "iopub.status.busy": "2024-01-24T13:00:43.542676Z",
     "iopub.status.idle": "2024-01-24T13:00:43.633279Z"
    },
    "papermill": {
     "duration": null,
     "end_time": null,
     "exception": null,
     "start_time": null,
     "status": "pending"
    },
    "tags": []
   },
   "outputs": [],
   "source": [
    "#checking the new dataframe \n",
    "colnames(all_trips)\n",
    "str(all_trips)\n",
    "head(all_trips)"
   ]
  },
  {
   "cell_type": "markdown",
   "id": "bce3296d",
   "metadata": {
    "papermill": {
     "duration": null,
     "end_time": null,
     "exception": null,
     "start_time": null,
     "status": "pending"
    },
    "tags": []
   },
   "source": [
    "## Combinig two data set \n",
    "Following the merger of the two datasets, the combined dataset now consists of 791,956 rows and 16 columns. However, in the interest of streamlining our analysis, certain columns have been identified as irrelevant and subsequently removed to focus on the key data points essential for our analytical objectives.\n"
   ]
  },
  {
   "cell_type": "code",
   "execution_count": null,
   "id": "51db5f7a",
   "metadata": {
    "execution": {
     "iopub.execute_input": "2024-01-24T13:02:12.990982Z",
     "iopub.status.busy": "2024-01-24T13:02:12.989116Z",
     "iopub.status.idle": "2024-01-24T13:02:13.017044Z"
    },
    "papermill": {
     "duration": null,
     "end_time": null,
     "exception": null,
     "start_time": null,
     "status": "pending"
    },
    "tags": []
   },
   "outputs": [],
   "source": [
    "nrow(all_trips)\n",
    "ncol(all_trips)"
   ]
  },
  {
   "cell_type": "code",
   "execution_count": null,
   "id": "c5757761",
   "metadata": {
    "execution": {
     "iopub.execute_input": "2024-01-24T13:02:22.444189Z",
     "iopub.status.busy": "2024-01-24T13:02:22.442371Z",
     "iopub.status.idle": "2024-01-24T13:02:22.46679Z"
    },
    "papermill": {
     "duration": null,
     "end_time": null,
     "exception": null,
     "start_time": null,
     "status": "pending"
    },
    "tags": []
   },
   "outputs": [],
   "source": [
    "#remove some colunms that are not needed \n",
    "all_trips <- all_trips%>%\n",
    "  select(-c(start_lat, start_lng, end_lat, end_lng, birthyear, gender,  \"tripduration\"))\n"
   ]
  },
  {
   "cell_type": "code",
   "execution_count": null,
   "id": "e15dd766",
   "metadata": {
    "execution": {
     "iopub.execute_input": "2024-01-24T13:02:57.184934Z",
     "iopub.status.busy": "2024-01-24T13:02:57.183127Z",
     "iopub.status.idle": "2024-01-24T13:02:57.327125Z"
    },
    "papermill": {
     "duration": null,
     "end_time": null,
     "exception": null,
     "start_time": null,
     "status": "pending"
    },
    "tags": []
   },
   "outputs": [],
   "source": [
    "#checking the statistical summary of the dataframe \n",
    "summary(all_trips)\n"
   ]
  },
  {
   "cell_type": "markdown",
   "id": "165fd04b",
   "metadata": {
    "papermill": {
     "duration": null,
     "end_time": null,
     "exception": null,
     "start_time": null,
     "status": "pending"
    },
    "tags": []
   },
   "source": [
    "# Cleaning  and preparation of the data"
   ]
  },
  {
   "cell_type": "code",
   "execution_count": null,
   "id": "bbb01dc1",
   "metadata": {
    "execution": {
     "iopub.execute_input": "2024-01-24T13:04:50.666598Z",
     "iopub.status.busy": "2024-01-24T13:04:50.664744Z",
     "iopub.status.idle": "2024-01-24T13:04:50.81409Z"
    },
    "papermill": {
     "duration": null,
     "end_time": null,
     "exception": null,
     "start_time": null,
     "status": "pending"
    },
    "tags": []
   },
   "outputs": [],
   "source": [
    "\n",
    "#1 In column \"member_casual\" we now subriber and cumstomer which needs to \n",
    "#change to member and casual respectively\n",
    "all_trips <- all_trips%>%\n",
    "  mutate(member_casual = recode(member_casual, \"Subscriber\" = \"member\", \n",
    "                                \"Customer\" = \"casual\"))"
   ]
  },
  {
   "cell_type": "code",
   "execution_count": null,
   "id": "36ef5ba3",
   "metadata": {
    "execution": {
     "iopub.execute_input": "2024-01-24T13:05:15.78622Z",
     "iopub.status.busy": "2024-01-24T13:05:15.784386Z",
     "iopub.status.idle": "2024-01-24T13:05:15.886434Z"
    },
    "papermill": {
     "duration": null,
     "end_time": null,
     "exception": null,
     "start_time": null,
     "status": "pending"
    },
    "tags": []
   },
   "outputs": [],
   "source": [
    "#we can verify our result \n",
    "table(all_trips$member_casual)\n",
    "# now we know the number of casual and member "
   ]
  },
  {
   "cell_type": "code",
   "execution_count": null,
   "id": "aa9d7278",
   "metadata": {
    "execution": {
     "iopub.execute_input": "2024-01-24T13:06:21.763234Z",
     "iopub.status.busy": "2024-01-24T13:06:21.76133Z",
     "iopub.status.idle": "2024-01-24T13:06:23.832883Z"
    },
    "papermill": {
     "duration": null,
     "end_time": null,
     "exception": null,
     "start_time": null,
     "status": "pending"
    },
    "tags": []
   },
   "outputs": [],
   "source": [
    "# we need to add additional columns like day, month and year in order to aggregate \n",
    "# the data accordinly \n",
    "all_trips$date <- as.Date(all_trips$started_at)\n",
    "all_trips$month <- format(as.Date(all_trips$date), \"%m\")\n",
    "all_trips$day <- format(as.Date(all_trips$date), \"%d\")\n",
    "all_trips$year <- format(as.Date(all_trips$date), \"%y\")\n",
    "all_trips$day_of_week <- format(as.Date(all_trips$date), \"%A\")"
   ]
  },
  {
   "cell_type": "code",
   "execution_count": null,
   "id": "17a4079e",
   "metadata": {
    "execution": {
     "iopub.execute_input": "2024-01-24T13:06:59.811545Z",
     "iopub.status.busy": "2024-01-24T13:06:59.80969Z",
     "iopub.status.idle": "2024-01-24T13:07:03.644372Z"
    },
    "papermill": {
     "duration": null,
     "end_time": null,
     "exception": null,
     "start_time": null,
     "status": "pending"
    },
    "tags": []
   },
   "outputs": [],
   "source": [
    "#we need to add the ride length whichs is calculated in seconds \n",
    "all_trips$ride_length <- difftime(all_trips$ended_at,all_trips$started_at)"
   ]
  },
  {
   "cell_type": "code",
   "execution_count": null,
   "id": "fe690eba",
   "metadata": {
    "execution": {
     "iopub.execute_input": "2024-01-24T13:07:29.860328Z",
     "iopub.status.busy": "2024-01-24T13:07:29.8585Z",
     "iopub.status.idle": "2024-01-24T13:07:29.901961Z"
    },
    "papermill": {
     "duration": null,
     "end_time": null,
     "exception": null,
     "start_time": null,
     "status": "pending"
    },
    "tags": []
   },
   "outputs": [],
   "source": [
    "\n",
    "#checking the dataframe \n",
    "str(all_trips)"
   ]
  },
  {
   "cell_type": "code",
   "execution_count": null,
   "id": "f0ed3934",
   "metadata": {
    "execution": {
     "iopub.execute_input": "2024-01-24T13:08:24.043656Z",
     "iopub.status.busy": "2024-01-24T13:08:24.041617Z",
     "iopub.status.idle": "2024-01-24T13:08:25.143045Z"
    },
    "papermill": {
     "duration": null,
     "end_time": null,
     "exception": null,
     "start_time": null,
     "status": "pending"
    },
    "tags": []
   },
   "outputs": [],
   "source": [
    "#we want to convert ride_length from factor to numeric \n",
    "all_trips$ride_length <- as.numeric(as.character(all_trips$ride_length))\n",
    "is.numeric(all_trips$ride_length)\n",
    "str(all_trips)"
   ]
  },
  {
   "cell_type": "code",
   "execution_count": null,
   "id": "5c8793f1",
   "metadata": {
    "execution": {
     "iopub.execute_input": "2024-01-24T13:09:44.345405Z",
     "iopub.status.busy": "2024-01-24T13:09:44.34323Z",
     "iopub.status.idle": "2024-01-24T13:09:45.1573Z"
    },
    "papermill": {
     "duration": null,
     "end_time": null,
     "exception": null,
     "start_time": null,
     "status": "pending"
    },
    "tags": []
   },
   "outputs": [],
   "source": [
    "#Removing Bad data \n",
    "#cheking through the ride_length columns we discover the some are negative \n",
    "# which is quite impossible, but fortunately the are just few hundreds \n",
    "# removing them wont be significantly affect out result\n",
    "\n",
    "all_trips_v2 <- all_trips[!(all_trips$start_station_name == \"HQ QR\" | all_trips$ride_length<0),]\n",
    "#checking the data\n",
    "str(all_trips_v2)\n",
    "colnames(all_trips_v2)"
   ]
  },
  {
   "cell_type": "markdown",
   "id": "2e81037e",
   "metadata": {
    "papermill": {
     "duration": null,
     "end_time": null,
     "exception": null,
     "start_time": null,
     "status": "pending"
    },
    "tags": []
   },
   "source": [
    "## Descriptive analysis"
   ]
  },
  {
   "cell_type": "markdown",
   "id": "3b5891f3",
   "metadata": {
    "papermill": {
     "duration": null,
     "end_time": null,
     "exception": null,
     "start_time": null,
     "status": "pending"
    },
    "tags": []
   },
   "source": []
  },
  {
   "cell_type": "code",
   "execution_count": null,
   "id": "801a476a",
   "metadata": {
    "execution": {
     "iopub.execute_input": "2024-01-24T13:14:13.406269Z",
     "iopub.status.busy": "2024-01-24T13:14:13.404045Z",
     "iopub.status.idle": "2024-01-24T13:14:13.478579Z"
    },
    "papermill": {
     "duration": null,
     "end_time": null,
     "exception": null,
     "start_time": null,
     "status": "pending"
    },
    "tags": []
   },
   "outputs": [],
   "source": [
    " \n",
    "\n",
    "# Descriptive analysis on ride_length (all figures in seconds)\n",
    "mean(all_trips_v2$ride_length) #straight average (total ride length / rides)\n",
    "median(all_trips_v2$ride_length) #midpoint number in the ascending array of ride lengths\n",
    "max(all_trips_v2$ride_length) #longest ride\n",
    "min(all_trips_v2$ride_length) #shortest ride"
   ]
  },
  {
   "cell_type": "code",
   "execution_count": null,
   "id": "d12c929c",
   "metadata": {
    "execution": {
     "iopub.execute_input": "2024-01-24T13:17:47.914913Z",
     "iopub.status.busy": "2024-01-24T13:17:47.912159Z",
     "iopub.status.idle": "2024-01-24T13:17:49.740478Z"
    },
    "papermill": {
     "duration": null,
     "end_time": null,
     "exception": null,
     "start_time": null,
     "status": "pending"
    },
    "tags": []
   },
   "outputs": [],
   "source": [
    "# Comparing  members and casual users\n",
    "aggregate(all_trips_v2$ride_length ~ all_trips_v2$member_casual, FUN = mean)\n",
    "aggregate(all_trips_v2$ride_length ~ all_trips_v2$member_casual, FUN = median)\n",
    "aggregate(all_trips_v2$ride_length ~ all_trips_v2$member_casual, FUN = max)\n",
    "aggregate(all_trips_v2$ride_length ~ all_trips_v2$member_casual, FUN = min)"
   ]
  },
  {
   "cell_type": "code",
   "execution_count": null,
   "id": "34e55fd6",
   "metadata": {
    "execution": {
     "iopub.execute_input": "2024-01-24T13:30:05.873223Z",
     "iopub.status.busy": "2024-01-24T13:30:05.871154Z",
     "iopub.status.idle": "2024-01-24T13:30:05.99215Z"
    },
    "papermill": {
     "duration": null,
     "end_time": null,
     "exception": null,
     "start_time": null,
     "status": "pending"
    },
    "tags": []
   },
   "outputs": [],
   "source": [
    "# Analyze the number of rides in each station \n",
    "station = all_trips %>%\n",
    "  group_by(member_casual, start_station_name) %>%\n",
    "  summarise(number_of_rides = n(), \n",
    "            average_duration = mean(ride_length), \n",
    "            .groups = 'drop') %>%\n",
    "  arrange(member_casual, -number_of_rides, start_station_name)\n",
    "head(station)"
   ]
  },
  {
   "cell_type": "code",
   "execution_count": null,
   "id": "845c2ee6",
   "metadata": {
    "execution": {
     "iopub.execute_input": "2024-01-24T13:30:35.982579Z",
     "iopub.status.busy": "2024-01-24T13:30:35.979638Z",
     "iopub.status.idle": "2024-01-24T13:30:36.521489Z"
    },
    "papermill": {
     "duration": null,
     "end_time": null,
     "exception": null,
     "start_time": null,
     "status": "pending"
    },
    "tags": []
   },
   "outputs": [],
   "source": [
    "# Analyze the total ride per month for different user types \n",
    "total_ride_month = all_trips %>%\n",
    "  group_by(member_casual, month) %>%\n",
    "  summarise(number_of_rides = n(), \n",
    "            average_duration = mean(ride_length)) %>%\n",
    "  arrange(member_casual, month)\n",
    "ggplot(total_ride_month, mapping = aes(x = month, y = number_of_rides, group = member_casual, color = member_casual)) +\n",
    "  geom_line()"
   ]
  },
  {
   "cell_type": "code",
   "execution_count": null,
   "id": "0b137195",
   "metadata": {
    "execution": {
     "iopub.execute_input": "2024-01-24T13:31:20.269208Z",
     "iopub.status.busy": "2024-01-24T13:31:20.267082Z",
     "iopub.status.idle": "2024-01-24T13:31:22.484702Z"
    },
    "papermill": {
     "duration": null,
     "end_time": null,
     "exception": null,
     "start_time": null,
     "status": "pending"
    },
    "tags": []
   },
   "outputs": [],
   "source": [
    "# Analyze how many hours each user type take along with total number of rides \n",
    "hour = all_trips %>%\n",
    "  mutate(hour = as.factor(hour(started_at))) %>%\n",
    "  group_by(member_casual, hour) %>%\n",
    "  summarise(number_of_rides = n(), \n",
    "            average_duration = mean(ride_length)) %>%\n",
    "  arrange(member_casual, hour)\n",
    "\n",
    "ggplot(hour, mapping = aes(x = hour, y = number_of_rides, group = member_casual, color = member_casual)) +\n",
    "  geom_line()\n",
    "ggplot(hour, mapping = aes(x = hour, y = average_duration, group = member_casual, color = member_casual)) +\n",
    "  geom_line()"
   ]
  },
  {
   "cell_type": "markdown",
   "id": "fa02e8dc",
   "metadata": {
    "papermill": {
     "duration": null,
     "end_time": null,
     "exception": null,
     "start_time": null,
     "status": "pending"
    },
    "tags": []
   },
   "source": [
    "## Average ride time by each day for members vs casual users\n",
    "To assess the average ride time for Cyclistic's members versus casual users, we are undertaking a comprehensive analysis of the merged dataset. By distinguishing between these user categories, we aim to understand their respective patterns in terms of daily ride durations. This involves computing the average ride time for each day, differentiating between Cyclistic members and casual users. Such a comparison will provide valuable insights into the distinctive behaviors of these user segments, enabling us to tailor marketing and operational strategies to cater to their specific preferences and usage patterns. This nuanced understanding is crucial for optimizing services and enhancing user engagement"
   ]
  },
  {
   "cell_type": "code",
   "execution_count": null,
   "id": "027919c1",
   "metadata": {
    "execution": {
     "iopub.execute_input": "2024-01-24T13:17:02.72707Z",
     "iopub.status.busy": "2024-01-24T13:17:02.725105Z",
     "iopub.status.idle": "2024-01-24T13:17:03.783528Z"
    },
    "papermill": {
     "duration": null,
     "end_time": null,
     "exception": null,
     "start_time": null,
     "status": "pending"
    },
    "tags": []
   },
   "outputs": [],
   "source": [
    "# the average ride time by each day for members vs casual users\n",
    "aggregate(all_trips_v2$ride_length ~ all_trips_v2$member_casual + all_trips_v2$day_of_week, FUN = mean)\n",
    "\n",
    "# Notice that the days of the week are out of order. Let's fix that.\n",
    "all_trips_v2$day_of_week <- ordered(all_trips_v2$day_of_week, levels=c(\"Sunday\", \"Monday\", \"Tuesday\", \"Wednesday\", \"Thursday\", \"Friday\", \"Saturday\"))\n",
    "\n",
    "# Now, let's run the average ride time by each day for members vs casual users\n",
    "aggregate(all_trips_v2$ride_length ~ all_trips_v2$member_casual + all_trips_v2$day_of_week, FUN = mean)"
   ]
  },
  {
   "cell_type": "code",
   "execution_count": null,
   "id": "6eaa387a",
   "metadata": {
    "execution": {
     "iopub.execute_input": "2024-01-24T13:20:10.097349Z",
     "iopub.status.busy": "2024-01-24T13:20:10.095489Z",
     "iopub.status.idle": "2024-01-24T13:20:12.994338Z"
    },
    "papermill": {
     "duration": null,
     "end_time": null,
     "exception": null,
     "start_time": null,
     "status": "pending"
    },
    "tags": []
   },
   "outputs": [],
   "source": [
    "# Let's create a visualization for average duration\n",
    "all_trips_v2 %>% \n",
    "  mutate(weekday = wday(started_at, label = TRUE)) %>% \n",
    "  group_by(member_casual, weekday) %>% \n",
    "  summarise(number_of_rides = n()\n",
    "            ,average_duration = mean(ride_length)) %>% \n",
    "  arrange(member_casual, weekday)  %>% \n",
    "  ggplot(aes(x = weekday, y = average_duration, fill = member_casual)) +\n",
    "  geom_col(position = \"dodge\")\n"
   ]
  },
  {
   "cell_type": "markdown",
   "id": "d4a1ee1a",
   "metadata": {
    "papermill": {
     "duration": null,
     "end_time": null,
     "exception": null,
     "start_time": null,
     "status": "pending"
    },
    "tags": []
   },
   "source": [
    "## Ridership data by type and weekday\n",
    "\n",
    "In our analysis of Cyclistic's ridership data by user type and weekday, we aim to uncover meaningful patterns in bike usage. By categorizing users into members and casual riders, and examining their activity on specific weekdays, we can identify trends and variations in demand. This granular approach allows us to discern whether certain days exhibit distinct preferences or higher utilization rates among specific user segments."
   ]
  },
  {
   "cell_type": "code",
   "execution_count": null,
   "id": "d16d96f0",
   "metadata": {
    "execution": {
     "iopub.execute_input": "2024-01-24T13:22:33.938264Z",
     "iopub.status.busy": "2024-01-24T13:22:33.936525Z",
     "iopub.status.idle": "2024-01-24T13:22:36.156691Z"
    },
    "papermill": {
     "duration": null,
     "end_time": null,
     "exception": null,
     "start_time": null,
     "status": "pending"
    },
    "tags": []
   },
   "outputs": [],
   "source": [
    "# analyze ridership data by type and weekday\n",
    "all_trips_v2 %>% \n",
    "  mutate(weekday = wday(started_at, label = TRUE)) %>%  #creates weekday field using wday()\n",
    "  group_by(member_casual, weekday) %>%  #groups by usertype and weekday\n",
    "  summarise(number_of_rides = n()\t\t\t\t\t\t\t#calculates the number of rides and average duration \n",
    "            ,average_duration = mean(ride_length)) %>% \t\t# calculates the average duration\n",
    "  arrange(member_casual, weekday)\t"
   ]
  },
  {
   "cell_type": "code",
   "execution_count": null,
   "id": "a17202e7",
   "metadata": {
    "execution": {
     "iopub.execute_input": "2024-01-24T13:24:56.518014Z",
     "iopub.status.busy": "2024-01-24T13:24:56.516188Z",
     "iopub.status.idle": "2024-01-24T13:24:59.073584Z"
    },
    "papermill": {
     "duration": null,
     "end_time": null,
     "exception": null,
     "start_time": null,
     "status": "pending"
    },
    "tags": []
   },
   "outputs": [],
   "source": [
    "# Let's visualize the number of rides by rider type\n",
    "all_trips_v2 %>% \n",
    "  mutate(weekday = wday(started_at, label = TRUE)) %>% \n",
    "  group_by(member_casual, weekday) %>% \n",
    "  summarise(number_of_rides = n()\n",
    "            ,average_duration = mean(ride_length)) %>% \n",
    "  arrange(member_casual, weekday)  %>% \n",
    "  ggplot(aes(x = weekday, y = number_of_rides, fill = member_casual)) +\n",
    "  geom_col(position = \"dodge\")"
   ]
  },
  {
   "cell_type": "markdown",
   "id": "17c7977c",
   "metadata": {
    "papermill": {
     "duration": null,
     "end_time": null,
     "exception": null,
     "start_time": null,
     "status": "pending"
    },
    "tags": []
   },
   "source": []
  },
  {
   "cell_type": "markdown",
   "id": "39b4b940",
   "metadata": {
    "papermill": {
     "duration": null,
     "end_time": null,
     "exception": null,
     "start_time": null,
     "status": "pending"
    },
    "tags": []
   },
   "source": [
    "# Conclustion \n",
    "\n",
    "Casual riders display a clear inclination towards longer rides, particularly on Thursdays and Fridays, where Thursdays stand out with the highest average duration. Noteworthy is the remarkable surge in ride lengths on Thursdays, setting it apart from other weekdays. Additionally, weekends, especially Saturdays, witness significant ride engagement, highlighting a distinct trend of increased cycling during the weekend. This data underscores the unique riding behaviors of casual users, emphasizing extended rides during weekdays and heightened participation over the weekends. "
   ]
  },
  {
   "cell_type": "markdown",
   "id": "2fce22b9",
   "metadata": {
    "papermill": {
     "duration": null,
     "end_time": null,
     "exception": null,
     "start_time": null,
     "status": "pending"
    },
    "tags": []
   },
   "source": [
    "# Recommendation \n",
    "Executing time-sensitive promotions or tailored special deals for casual riders proves to be a potent strategy for encouraging their shift towards annual memberships. By introducing limited-time discounts, exclusive merchandise, or early access to novel features, a sense of urgency is instilled, compelling casual riders to seize the opportunity within a specified timeframe. This approach leverages the psychology of urgency, prompting individuals to make swift decisions and upgrade to annual memberships.\n",
    "\n",
    "Moreover, the incorporation of bundle packages enhances the value proposition for potential annual members. These packages may include discounted rates or exclusive perks, presenting an appealing and enticing offer. Through bundling services and benefits, casual riders are provided with a comprehensive and compelling rationale to commit to an annual membership, thereby heightening the likelihood of conversion.\n",
    "\n",
    "Facilitating a more immersive experience, offering short-term trial memberships at a reduced cost allows casual riders to explore the advantages of annual memberships. This approach permits individuals to sample the benefits and convenience associated with annual membership, potentially fostering a stronger inclination to make a more enduring commitment.\n",
    "\n",
    "In synergy with these promotional endeavors, the development of engaging content assumes a pivotal role. Success stories, testimonials, or case studies from contented annual members serve as potent marketing tools. Real-life experiences shared by current annual members can resonate with casual riders, offering authentic insights into the positive outcomes of transitioning to an annual membership. This user-generated content not only bolsters credibility but also nurtures a sense of community and trust among potential annual members."
   ]
  },
  {
   "cell_type": "markdown",
   "id": "e7015cd1",
   "metadata": {
    "papermill": {
     "duration": null,
     "end_time": null,
     "exception": null,
     "start_time": null,
     "status": "pending"
    },
    "tags": []
   },
   "source": [
    "## Summary\n",
    "Implementing a multifaceted strategy that incorporates time-sensitive promotions, bundle packages, short-term trial memberships, and compelling content can significantly enhance the conversion of casual riders into annual members. By strategically integrating these initiatives, the goal is to cater to diverse consumer motivations and preferences, ultimately optimizing the success of the marketing strategy. This comprehensive approach not only encourages conversions but also contributes to the development of a more committed and engaged Cyclistic community. The synergy of these elements aims to create a compelling and irresistible proposition for casual riders, fostering a stronger connection and long-term commitment to Cyclistic's annual membership."
   ]
  },
  {
   "cell_type": "markdown",
   "id": "c57c547d",
   "metadata": {
    "papermill": {
     "duration": null,
     "end_time": null,
     "exception": null,
     "start_time": null,
     "status": "pending"
    },
    "tags": []
   },
   "source": []
  }
 ],
 "metadata": {
  "kaggle": {
   "accelerator": "none",
   "dataSources": [
    {
     "datasetId": 14240,
     "sourceId": 19151,
     "sourceType": "datasetVersion"
    },
    {
     "datasetId": 4348796,
     "sourceId": 7470357,
     "sourceType": "datasetVersion"
    }
   ],
   "dockerImageVersionId": 30635,
   "isGpuEnabled": false,
   "isInternetEnabled": true,
   "language": "r",
   "sourceType": "notebook"
  },
  "kernelspec": {
   "display_name": "R",
   "language": "R",
   "name": "ir"
  },
  "language_info": {
   "codemirror_mode": "r",
   "file_extension": ".r",
   "mimetype": "text/x-r-source",
   "name": "R",
   "pygments_lexer": "r",
   "version": "4.0.5"
  },
  "papermill": {
   "default_parameters": {},
   "duration": 14.113425,
   "end_time": "2024-02-20T22:33:25.108805",
   "environment_variables": {},
   "exception": true,
   "input_path": "__notebook__.ipynb",
   "output_path": "__notebook__.ipynb",
   "parameters": {},
   "start_time": "2024-02-20T22:33:10.995380",
   "version": "2.5.0"
  }
 },
 "nbformat": 4,
 "nbformat_minor": 5
}
